{
 "cells": [
  {
   "cell_type": "code",
   "execution_count": 8,
   "id": "4220cc0b",
   "metadata": {},
   "outputs": [
    {
     "name": "stdout",
     "output_type": "stream",
     "text": [
      "Current Directory: C:\\Users\\venan\\ppchem\n",
      "Hello \n"
     ]
    }
   ],
   "source": [
    "### Writing and reading files \n",
    "#Define a Path with a pathlib module --> read the content of the file if it exist\n",
    "\n",
    "from pathlib import Path\n",
    "\n",
    "# Create a Path object for the current directory\n",
    "current_directory = Path.cwd()\n",
    "print(\"Current Directory:\", current_directory.resolve())\n",
    "\n",
    "# Creating a Path object for an example file that does not yet exist\n",
    "example_file_path = current_directory / \"example.txt\"\n",
    "\n",
    "# Reading the contents of the file\n",
    "if example_file_path.exists():\n",
    "    with example_file_path.open(\"r\") as file:\n",
    "        content = file.read()\n",
    "        print(content)\n",
    "else:\n",
    "    print(\"The file does not exist.\")"
   ]
  },
  {
   "cell_type": "code",
   "execution_count": 14,
   "id": "865fd860",
   "metadata": {},
   "outputs": [
    {
     "name": "stdout",
     "output_type": "stream",
     "text": [
      "Hello \n"
     ]
    }
   ],
   "source": [
    "example_file_path.touch()\n",
    "\n",
    "# Reading the contents of the file\n",
    "if example_file_path.exists():\n",
    "    with example_file_path.open(\"r\") as file:\n",
    "        content = file.read()\n",
    "        print(content)\n",
    "else:\n",
    "    print(\"The file does not exist.\")"
   ]
  },
  {
   "cell_type": "code",
   "execution_count": 15,
   "id": "31174e5c",
   "metadata": {},
   "outputs": [
    {
     "name": "stdout",
     "output_type": "stream",
     "text": [
      "Hello \n"
     ]
    }
   ],
   "source": [
    "# Reading the contents of the file\n",
    "if example_file_path.exists():\n",
    "    with example_file_path.open(\"r\") as file:\n",
    "        content = file.read()\n",
    "        if len(content) == 0:\n",
    "            print(\"File exists but is empty.\")\n",
    "        else:\n",
    "            print(content)\n",
    "else:\n",
    "    print(\"The file does not exist.\")"
   ]
  },
  {
   "cell_type": "code",
   "execution_count": 6,
   "id": "69f01dc7",
   "metadata": {},
   "outputs": [],
   "source": [
    "# Associate names\n",
    "molecule_name = \"Caffeine\"\n",
    "molecule_image_url = \"https://github.com/Enzo-vnc/ppchem/blob/main/caffeine.png\"\n",
    "molecule_description = \"Caffeine is a central nervous system (CNS) stimulant of the methylxanthine class.\""
   ]
  },
  {
   "cell_type": "code",
   "execution_count": 9,
   "id": "aa53aa62",
   "metadata": {},
   "outputs": [],
   "source": [
    "# Define path\n",
    "molecule_info_path = current_directory / \"molecule_info.txt\"\n",
    "\n",
    "# Create file\n",
    "molecule_info_path.touch()\n",
    "\n",
    "# Write to file\n",
    "with molecule_info_path.open(\"w\") as file:\n",
    "    file.write(\n",
    "        f\"Molecule: {molecule_name}\\n\"\n",
    "        f\"Image URL: {molecule_image_url}\\n\"\n",
    "        f\"Description: {molecule_description}\"\n",
    "    )"
   ]
  },
  {
   "cell_type": "code",
   "execution_count": 43,
   "id": "dc2ca7a2",
   "metadata": {},
   "outputs": [
    {
     "name": "stdout",
     "output_type": "stream",
     "text": [
      "Molecule: Caffeine\n",
      "Image URL: https://github.com/Enzo-vnc/ppchem/blob/main/caffeine.png\n",
      "Description: Caffeine is a central nervous system (CNS) stimulant of the methylxanthine class.\n"
     ]
    }
   ],
   "source": [
    "# Reading the contents of the file\n",
    "if molecule_info_path.exists():\n",
    "    with molecule_info_path.open(\"r\") as file:\n",
    "        content = file.read()\n",
    "        if len(content) == 0:\n",
    "            print(\"File exists but is empty.\")\n",
    "        else:\n",
    "            print(content)\n",
    "else:\n",
    "    print(\"The file does not exist.\")"
   ]
  },
  {
   "cell_type": "code",
   "execution_count": 17,
   "id": "ed2a0bf1",
   "metadata": {},
   "outputs": [],
   "source": [
    "def check_file_existence_and_read_contents(molecule_info_path: Path):\n",
    "    if molecule_info_path.exists():  # exists\n",
    "        # 'with' is what's known as acontext manager. It keeps the file open while we\n",
    "        # are running code inside the `with` block, but closes it when leaving the code\n",
    "        # block.\n",
    "        with molecule_info_path.open(\"r\") as file:\n",
    "            content = file.read()  # read contents of the file\n",
    "\n",
    "            if len(content) == 0:  # empty\n",
    "                print(\"File exists but is empty.\")\n",
    "\n",
    "            else:  # not empty\n",
    "                print(content)\n",
    "\n",
    "    else:  # doesn't exist\n",
    "        print(\"The file does not exist.\")"
   ]
  },
  {
   "cell_type": "code",
   "execution_count": 20,
   "id": "2cf16c9f",
   "metadata": {},
   "outputs": [
    {
     "name": "stdout",
     "output_type": "stream",
     "text": [
      "Molecule: Caffeine\n",
      "Image URL: https://github.com/Enzo-vnc/ppchem/blob/main/caffeine.png\n",
      "Description: Caffeine is a central nervous system (CNS) stimulant of the methylxanthine class.\n"
     ]
    }
   ],
   "source": [
    "### Functions!\n",
    "# serve to use reuse a code or an action withnt rewrite it\n",
    "\n",
    "def check_file_existence_and_read_contents(file_path_object: Path):\n",
    "    \"\"\"\n",
    "    Checks the existence of the file whose path is pointed to in the input variable\n",
    "    `file_path_object`. \n",
    "    \n",
    "    If it exists and is empty, prints \"File exists but is empty. If it exists and is not\n",
    "    empty, prints the contents of the file. If it doesn't exist, prints \"The file does\n",
    "    not exist.\"\n",
    "\n",
    "    :param file_path_object: the `pathlib.Path` object pointing to the absolute path of\n",
    "        the file to be checked and read.\n",
    "    \"\"\"\n",
    "    if file_path_object.exists():  # exists\n",
    "\n",
    "        # 'with' is what's known as acontext manager. It keeps the file open while we\n",
    "        # are running code inside the `with` block, but closes it when leaving the code\n",
    "        # block.\n",
    "        with file_path_object.open(\"r\") as file:\n",
    "            content = file.read()  # read contents of the file\n",
    "\n",
    "            if len(content) == 0:  # empty\n",
    "                print(\"File exists but is empty.\")\n",
    "\n",
    "            else:  # not empty\n",
    "                print(content)\n",
    "\n",
    "    else:  # doesn't exist\n",
    "        print(\"The file does not exist.\")\n",
    "\n",
    "#exemple: \n",
    "\n",
    "check_file_existence_and_read_contents(molecule_info_path)  # calls the function"
   ]
  },
  {
   "cell_type": "code",
   "execution_count": 21,
   "id": "a39d7635",
   "metadata": {},
   "outputs": [],
   "source": [
    "# exemple of function with theorical yield \n",
    "\n",
    "def reaction_yield(theoretical_yield, actual_yield):\n",
    "    \"\"\"\n",
    "    Calculate the percent yield of a reaction.\n",
    "    theoretical_yield: Theoretical yield in grams\n",
    "    actual_yield: Actual yield obtained from the reaction in grams\n",
    "    Returns the percent yield as a percentage.\n",
    "    \"\"\"\n",
    "    percent_yield = (actual_yield / theoretical_yield) * 100\n",
    "    return percent_yield"
   ]
  },
  {
   "cell_type": "code",
   "execution_count": 22,
   "id": "70ca5b16",
   "metadata": {},
   "outputs": [
    {
     "name": "stdout",
     "output_type": "stream",
     "text": [
      "Experimental yield: 85.0 %\n"
     ]
    }
   ],
   "source": [
    "# Example usage:\n",
    "yield_percent = reaction_yield(10.0, 8.5)\n",
    "print(f\"Experimental yield: {yield_percent} %\")"
   ]
  },
  {
   "cell_type": "code",
   "execution_count": 26,
   "id": "a14e66d9",
   "metadata": {},
   "outputs": [
    {
     "name": "stdout",
     "output_type": "stream",
     "text": [
      "Experimental yield: -85.0 %\n",
      "Experimental yield: 123450.0 %\n"
     ]
    }
   ],
   "source": [
    "# but with this function, non possible values can pass : \n",
    "yield_percent = reaction_yield(-10.0, 8.5)\n",
    "print(f\"Experimental yield: {yield_percent} %\")\n",
    "\n",
    "#or \n",
    "\n",
    "yield_percent = reaction_yield(theoretical_yield=10.0, actual_yield=12345)\n",
    "print(f\"Experimental yield: {yield_percent} %\")\n"
   ]
  },
  {
   "cell_type": "code",
   "execution_count": 27,
   "id": "f7e4da86",
   "metadata": {},
   "outputs": [
    {
     "ename": "TypeError",
     "evalue": "unsupported operand type(s) for /: 'int' and 'str'",
     "output_type": "error",
     "traceback": [
      "\u001b[1;31m---------------------------------------------------------------------------\u001b[0m",
      "\u001b[1;31mTypeError\u001b[0m                                 Traceback (most recent call last)",
      "Cell \u001b[1;32mIn[27], line 3\u001b[0m\n\u001b[0;32m      1\u001b[0m \u001b[38;5;66;03m# and if we used an incorrect data type we have an error : \u001b[39;00m\n\u001b[1;32m----> 3\u001b[0m yield_percent \u001b[38;5;241m=\u001b[39m reaction_yield(\u001b[38;5;124m\"\u001b[39m\u001b[38;5;124mI never took chemistry\u001b[39m\u001b[38;5;124m\"\u001b[39m, \u001b[38;5;241m101\u001b[39m)  \u001b[38;5;66;03m# passing a string and an integer\u001b[39;00m\n\u001b[0;32m      4\u001b[0m \u001b[38;5;28mprint\u001b[39m(\u001b[38;5;124mf\u001b[39m\u001b[38;5;124m\"\u001b[39m\u001b[38;5;124mExperimental yield: \u001b[39m\u001b[38;5;132;01m{\u001b[39;00myield_percent\u001b[38;5;132;01m}\u001b[39;00m\u001b[38;5;124m %\u001b[39m\u001b[38;5;124m\"\u001b[39m)\n",
      "Cell \u001b[1;32mIn[21], line 10\u001b[0m, in \u001b[0;36mreaction_yield\u001b[1;34m(theoretical_yield, actual_yield)\u001b[0m\n\u001b[0;32m      3\u001b[0m \u001b[38;5;28;01mdef\u001b[39;00m \u001b[38;5;21mreaction_yield\u001b[39m(theoretical_yield, actual_yield):\n\u001b[0;32m      4\u001b[0m \u001b[38;5;250m    \u001b[39m\u001b[38;5;124;03m\"\"\"\u001b[39;00m\n\u001b[0;32m      5\u001b[0m \u001b[38;5;124;03m    Calculate the percent yield of a reaction.\u001b[39;00m\n\u001b[0;32m      6\u001b[0m \u001b[38;5;124;03m    theoretical_yield: Theoretical yield in grams\u001b[39;00m\n\u001b[0;32m      7\u001b[0m \u001b[38;5;124;03m    actual_yield: Actual yield obtained from the reaction in grams\u001b[39;00m\n\u001b[0;32m      8\u001b[0m \u001b[38;5;124;03m    Returns the percent yield as a percentage.\u001b[39;00m\n\u001b[0;32m      9\u001b[0m \u001b[38;5;124;03m    \"\"\"\u001b[39;00m\n\u001b[1;32m---> 10\u001b[0m     percent_yield \u001b[38;5;241m=\u001b[39m (actual_yield \u001b[38;5;241m/\u001b[39m theoretical_yield) \u001b[38;5;241m*\u001b[39m \u001b[38;5;241m100\u001b[39m\n\u001b[0;32m     11\u001b[0m     \u001b[38;5;28;01mreturn\u001b[39;00m percent_yield\n",
      "\u001b[1;31mTypeError\u001b[0m: unsupported operand type(s) for /: 'int' and 'str'"
     ]
    }
   ],
   "source": [
    "# and if we used an incorrect data type we have an error : \n",
    "\n",
    "yield_percent = reaction_yield(\"I never took chemistry\", 101)  # passing a string and an integer\n",
    "print(f\"Experimental yield: {yield_percent} %\")"
   ]
  },
  {
   "cell_type": "code",
   "execution_count": 28,
   "id": "34df23c0",
   "metadata": {},
   "outputs": [],
   "source": [
    "# now we want to improve our function to pare this problems and indicate it\n",
    "# for facilitate the use of a code we have to :\n",
    "#1) Type hints \n",
    "#2) Input check\n",
    "def reaction_yield(theoretical_yield: float, actual_yield: float) -> float:\n",
    "    \"\"\"\n",
    "    Calculates the percent yield of a reaction.\n",
    "\n",
    "    :param theoretical_yield: float, the theoretical yield of the reaction, in grams.\n",
    "    :param actual_yield: float, the actual yield obtained from the reaction, in grams.\n",
    "    \n",
    "    :return: float, the yield of the reaction as a percentage.\n",
    "    \"\"\"\n",
    "    # Type checks: input yields should be passed as floats--> \"isinstance\" serve to check if a object is take it as the class wanted\n",
    "    if not isinstance(theoretical_yield, float):\n",
    "        raise TypeError(\n",
    "            f\"Invalid type {type(theoretical_yield)}: `theoretical_yield`\"\n",
    "            \" should be passed as a float.\"\n",
    "        )\n",
    "    if not isinstance(actual_yield, float):\n",
    "        raise TypeError(\n",
    "            f\"Invalid type {type(actual_yield)}: `actual_yield`\"\n",
    "            \" should be passed as a float.\"\n",
    "        )\n",
    "\n",
    "    # Input value checks\n",
    "    if theoretical_yield < 0 or actual_yield < 0:  # yields should be non-negative\n",
    "        raise ValueError(\"Input yields must be a non-negative float\")\n",
    "\n",
    "    if actual_yield > theoretical_yield:  # actual yield can't be more than the theoretical\n",
    "        raise ValueError(\"Actual yield cannot be more than the theoretical yield\")\n",
    "\n",
    "    # Calculate the yield and return\n",
    "    percent_yield = (actual_yield / theoretical_yield) * 100\n",
    "    return percent_yield"
   ]
  },
  {
   "cell_type": "code",
   "execution_count": 31,
   "id": "122ca2ef",
   "metadata": {},
   "outputs": [
    {
     "ename": "TypeError",
     "evalue": "Invalid type <class 'int'>: `actual_yield` should be passed as a float.",
     "output_type": "error",
     "traceback": [
      "\u001b[1;31m---------------------------------------------------------------------------\u001b[0m",
      "\u001b[1;31mTypeError\u001b[0m                                 Traceback (most recent call last)",
      "Cell \u001b[1;32mIn[31], line 8\u001b[0m\n\u001b[0;32m      1\u001b[0m \u001b[38;5;66;03m# rerun the incorrect values : \u001b[39;00m\n\u001b[0;32m      2\u001b[0m  \n\u001b[0;32m      3\u001b[0m \u001b[38;5;66;03m#yield_percent = reaction_yield(-10.0, 8.5)\u001b[39;00m\n\u001b[0;32m      4\u001b[0m \u001b[38;5;66;03m#print(f\"Experimental yield: {yield_percent} %\")\u001b[39;00m\n\u001b[0;32m      5\u001b[0m \n\u001b[0;32m      6\u001b[0m \u001b[38;5;66;03m#or \u001b[39;00m\n\u001b[1;32m----> 8\u001b[0m yield_percent \u001b[38;5;241m=\u001b[39m reaction_yield(theoretical_yield\u001b[38;5;241m=\u001b[39m\u001b[38;5;241m10.0\u001b[39m, actual_yield\u001b[38;5;241m=\u001b[39m\u001b[38;5;241m12345\u001b[39m)\n\u001b[0;32m      9\u001b[0m \u001b[38;5;28mprint\u001b[39m(\u001b[38;5;124mf\u001b[39m\u001b[38;5;124m\"\u001b[39m\u001b[38;5;124mExperimental yield: \u001b[39m\u001b[38;5;132;01m{\u001b[39;00myield_percent\u001b[38;5;132;01m}\u001b[39;00m\u001b[38;5;124m %\u001b[39m\u001b[38;5;124m\"\u001b[39m)\n",
      "Cell \u001b[1;32mIn[28], line 21\u001b[0m, in \u001b[0;36mreaction_yield\u001b[1;34m(theoretical_yield, actual_yield)\u001b[0m\n\u001b[0;32m     16\u001b[0m     \u001b[38;5;28;01mraise\u001b[39;00m \u001b[38;5;167;01mTypeError\u001b[39;00m(\n\u001b[0;32m     17\u001b[0m         \u001b[38;5;124mf\u001b[39m\u001b[38;5;124m\"\u001b[39m\u001b[38;5;124mInvalid type \u001b[39m\u001b[38;5;132;01m{\u001b[39;00m\u001b[38;5;28mtype\u001b[39m(theoretical_yield)\u001b[38;5;132;01m}\u001b[39;00m\u001b[38;5;124m: `theoretical_yield`\u001b[39m\u001b[38;5;124m\"\u001b[39m\n\u001b[0;32m     18\u001b[0m         \u001b[38;5;124m\"\u001b[39m\u001b[38;5;124m should be passed as a float.\u001b[39m\u001b[38;5;124m\"\u001b[39m\n\u001b[0;32m     19\u001b[0m     )\n\u001b[0;32m     20\u001b[0m \u001b[38;5;28;01mif\u001b[39;00m \u001b[38;5;129;01mnot\u001b[39;00m \u001b[38;5;28misinstance\u001b[39m(actual_yield, \u001b[38;5;28mfloat\u001b[39m):\n\u001b[1;32m---> 21\u001b[0m     \u001b[38;5;28;01mraise\u001b[39;00m \u001b[38;5;167;01mTypeError\u001b[39;00m(\n\u001b[0;32m     22\u001b[0m         \u001b[38;5;124mf\u001b[39m\u001b[38;5;124m\"\u001b[39m\u001b[38;5;124mInvalid type \u001b[39m\u001b[38;5;132;01m{\u001b[39;00m\u001b[38;5;28mtype\u001b[39m(actual_yield)\u001b[38;5;132;01m}\u001b[39;00m\u001b[38;5;124m: `actual_yield`\u001b[39m\u001b[38;5;124m\"\u001b[39m\n\u001b[0;32m     23\u001b[0m         \u001b[38;5;124m\"\u001b[39m\u001b[38;5;124m should be passed as a float.\u001b[39m\u001b[38;5;124m\"\u001b[39m\n\u001b[0;32m     24\u001b[0m     )\n\u001b[0;32m     26\u001b[0m \u001b[38;5;66;03m# Input value checks\u001b[39;00m\n\u001b[0;32m     27\u001b[0m \u001b[38;5;28;01mif\u001b[39;00m theoretical_yield \u001b[38;5;241m<\u001b[39m \u001b[38;5;241m0\u001b[39m \u001b[38;5;129;01mor\u001b[39;00m actual_yield \u001b[38;5;241m<\u001b[39m \u001b[38;5;241m0\u001b[39m:  \u001b[38;5;66;03m# yields should be non-negative\u001b[39;00m\n",
      "\u001b[1;31mTypeError\u001b[0m: Invalid type <class 'int'>: `actual_yield` should be passed as a float."
     ]
    }
   ],
   "source": [
    "# rerun the incorrect values : \n",
    " \n",
    "yield_percent = reaction_yield(-10.0, 8.5)\n",
    "print(f\"Experimental yield: {yield_percent} %\")\n",
    "\n",
    "#or \n",
    "\n",
    "yield_percent = reaction_yield(theoretical_yield=10.0, actual_yield=12345)\n",
    "print(f\"Experimental yield: {yield_percent} %\")"
   ]
  },
  {
   "cell_type": "code",
   "execution_count": 32,
   "id": "e570d0eb",
   "metadata": {},
   "outputs": [
    {
     "ename": "TypeError",
     "evalue": "Invalid type <class 'int'>: `theoretical_yield` should be passed as a float.",
     "output_type": "error",
     "traceback": [
      "\u001b[1;31m---------------------------------------------------------------------------\u001b[0m",
      "\u001b[1;31mTypeError\u001b[0m                                 Traceback (most recent call last)",
      "Cell \u001b[1;32mIn[32], line 1\u001b[0m\n\u001b[1;32m----> 1\u001b[0m yield_percent \u001b[38;5;241m=\u001b[39m reaction_yield(\u001b[38;5;241m25\u001b[39m, \u001b[38;5;241m5\u001b[39m)  \u001b[38;5;66;03m# error!\u001b[39;00m\n\u001b[0;32m      2\u001b[0m \u001b[38;5;28mprint\u001b[39m(\u001b[38;5;124mf\u001b[39m\u001b[38;5;124m\"\u001b[39m\u001b[38;5;124mExperimental yield: \u001b[39m\u001b[38;5;132;01m{\u001b[39;00myield_percent\u001b[38;5;132;01m}\u001b[39;00m\u001b[38;5;124m %\u001b[39m\u001b[38;5;124m\"\u001b[39m)\n",
      "Cell \u001b[1;32mIn[28], line 16\u001b[0m, in \u001b[0;36mreaction_yield\u001b[1;34m(theoretical_yield, actual_yield)\u001b[0m\n\u001b[0;32m     14\u001b[0m \u001b[38;5;66;03m# Type checks: input yields should be passed as floats\u001b[39;00m\n\u001b[0;32m     15\u001b[0m \u001b[38;5;28;01mif\u001b[39;00m \u001b[38;5;129;01mnot\u001b[39;00m \u001b[38;5;28misinstance\u001b[39m(theoretical_yield, \u001b[38;5;28mfloat\u001b[39m):\n\u001b[1;32m---> 16\u001b[0m     \u001b[38;5;28;01mraise\u001b[39;00m \u001b[38;5;167;01mTypeError\u001b[39;00m(\n\u001b[0;32m     17\u001b[0m         \u001b[38;5;124mf\u001b[39m\u001b[38;5;124m\"\u001b[39m\u001b[38;5;124mInvalid type \u001b[39m\u001b[38;5;132;01m{\u001b[39;00m\u001b[38;5;28mtype\u001b[39m(theoretical_yield)\u001b[38;5;132;01m}\u001b[39;00m\u001b[38;5;124m: `theoretical_yield`\u001b[39m\u001b[38;5;124m\"\u001b[39m\n\u001b[0;32m     18\u001b[0m         \u001b[38;5;124m\"\u001b[39m\u001b[38;5;124m should be passed as a float.\u001b[39m\u001b[38;5;124m\"\u001b[39m\n\u001b[0;32m     19\u001b[0m     )\n\u001b[0;32m     20\u001b[0m \u001b[38;5;28;01mif\u001b[39;00m \u001b[38;5;129;01mnot\u001b[39;00m \u001b[38;5;28misinstance\u001b[39m(actual_yield, \u001b[38;5;28mfloat\u001b[39m):\n\u001b[0;32m     21\u001b[0m     \u001b[38;5;28;01mraise\u001b[39;00m \u001b[38;5;167;01mTypeError\u001b[39;00m(\n\u001b[0;32m     22\u001b[0m         \u001b[38;5;124mf\u001b[39m\u001b[38;5;124m\"\u001b[39m\u001b[38;5;124mInvalid type \u001b[39m\u001b[38;5;132;01m{\u001b[39;00m\u001b[38;5;28mtype\u001b[39m(actual_yield)\u001b[38;5;132;01m}\u001b[39;00m\u001b[38;5;124m: `actual_yield`\u001b[39m\u001b[38;5;124m\"\u001b[39m\n\u001b[0;32m     23\u001b[0m         \u001b[38;5;124m\"\u001b[39m\u001b[38;5;124m should be passed as a float.\u001b[39m\u001b[38;5;124m\"\u001b[39m\n\u001b[0;32m     24\u001b[0m     )\n",
      "\u001b[1;31mTypeError\u001b[0m: Invalid type <class 'int'>: `theoretical_yield` should be passed as a float."
     ]
    }
   ],
   "source": [
    "yield_percent = reaction_yield(25, 5)  # error!\n",
    "print(f\"Experimental yield: {yield_percent} %\")"
   ]
  },
  {
   "cell_type": "code",
   "execution_count": 33,
   "id": "2eba6cc2",
   "metadata": {},
   "outputs": [
    {
     "name": "stdout",
     "output_type": "stream",
     "text": [
      "11\n"
     ]
    }
   ],
   "source": [
    "#3) error handling \n",
    "#conversion/\"casting\" --> converting data in one type (integer, string, float, etc.)\n",
    "\n",
    "#ex. use int() or str() for convert a float or an int\n",
    "a = 5\n",
    "b = \"6\"\n",
    "print(a + int(b))  # 11"
   ]
  },
  {
   "cell_type": "code",
   "execution_count": 35,
   "id": "89b91373",
   "metadata": {},
   "outputs": [
    {
     "data": {
      "text/plain": [
       "11"
      ]
     },
     "execution_count": 35,
     "metadata": {},
     "output_type": "execute_result"
    }
   ],
   "source": [
    "\n",
    "def add_five(number: int) -> int:\n",
    "    \"\"\"Adds 5 to `number` and returns the result\"\"\"\n",
    "    return 5 + number\n",
    "# Passing an int --> expected behaviour. Integer 11 returned\n",
    "add_five(6)"
   ]
  },
  {
   "cell_type": "code",
   "execution_count": 36,
   "id": "fee5e344",
   "metadata": {},
   "outputs": [
    {
     "ename": "TypeError",
     "evalue": "unsupported operand type(s) for +: 'int' and 'str'",
     "output_type": "error",
     "traceback": [
      "\u001b[1;31m---------------------------------------------------------------------------\u001b[0m",
      "\u001b[1;31mTypeError\u001b[0m                                 Traceback (most recent call last)",
      "Cell \u001b[1;32mIn[36], line 2\u001b[0m\n\u001b[0;32m      1\u001b[0m \u001b[38;5;66;03m# Passing a str --> TypeError\u001b[39;00m\n\u001b[1;32m----> 2\u001b[0m add_five(\u001b[38;5;124m\"\u001b[39m\u001b[38;5;124m6\u001b[39m\u001b[38;5;124m\"\u001b[39m)\n",
      "Cell \u001b[1;32mIn[35], line 3\u001b[0m, in \u001b[0;36madd_five\u001b[1;34m(number)\u001b[0m\n\u001b[0;32m      1\u001b[0m \u001b[38;5;28;01mdef\u001b[39;00m \u001b[38;5;21madd_five\u001b[39m(number: \u001b[38;5;28mint\u001b[39m) \u001b[38;5;241m-\u001b[39m\u001b[38;5;241m>\u001b[39m \u001b[38;5;28mint\u001b[39m:\n\u001b[0;32m      2\u001b[0m \u001b[38;5;250m    \u001b[39m\u001b[38;5;124;03m\"\"\"Adds 5 to `number` and returns the result\"\"\"\u001b[39;00m\n\u001b[1;32m----> 3\u001b[0m     \u001b[38;5;28;01mreturn\u001b[39;00m \u001b[38;5;241m5\u001b[39m \u001b[38;5;241m+\u001b[39m number\n",
      "\u001b[1;31mTypeError\u001b[0m: unsupported operand type(s) for +: 'int' and 'str'"
     ]
    }
   ],
   "source": [
    "# Passing a str --> TypeError\n",
    "add_five(\"6\")"
   ]
  },
  {
   "cell_type": "code",
   "execution_count": 37,
   "id": "69a54145",
   "metadata": {},
   "outputs": [
    {
     "name": "stdout",
     "output_type": "stream",
     "text": [
      "11.0\n",
      "<class 'float'>\n"
     ]
    }
   ],
   "source": [
    "# Passing a float --> no error, but returns a float not an int\n",
    "result = add_five(6.0)\n",
    "print(result)\n",
    "print(type(result))"
   ]
  },
  {
   "cell_type": "code",
   "execution_count": 38,
   "id": "9fc573a5",
   "metadata": {},
   "outputs": [
    {
     "name": "stdout",
     "output_type": "stream",
     "text": [
      "11\n",
      "<class 'int'>\n"
     ]
    }
   ],
   "source": [
    "#if we want to cast the output into an int \n",
    "\n",
    "def add_five(number: int) -> int:\n",
    "    \"\"\"Adds 5 to `number` and returns the result\"\"\"\n",
    "    return int(5 + number)\n",
    "\n",
    "# Passing a float --> no error, but returns a float not an int\n",
    "result = add_five(6.0)\n",
    "print(result)\n",
    "print(type(result))"
   ]
  },
  {
   "cell_type": "code",
   "execution_count": 43,
   "id": "0db7ef5e",
   "metadata": {},
   "outputs": [
    {
     "name": "stdout",
     "output_type": "stream",
     "text": [
      "11\n",
      "<class 'int'>\n",
      "11\n",
      "<class 'int'>\n"
     ]
    },
    {
     "ename": "ValueError",
     "evalue": "invalid literal for int() with base 10: 'hello'",
     "output_type": "error",
     "traceback": [
      "\u001b[1;31m---------------------------------------------------------------------------\u001b[0m",
      "\u001b[1;31mValueError\u001b[0m                                Traceback (most recent call last)",
      "Cell \u001b[1;32mIn[43], line 21\u001b[0m\n\u001b[0;32m     18\u001b[0m \u001b[38;5;28mprint\u001b[39m(result)\n\u001b[0;32m     19\u001b[0m \u001b[38;5;28mprint\u001b[39m(\u001b[38;5;28mtype\u001b[39m(result))\n\u001b[1;32m---> 21\u001b[0m output \u001b[38;5;241m=\u001b[39m add_five(\u001b[38;5;124m\"\u001b[39m\u001b[38;5;124mhello\u001b[39m\u001b[38;5;124m\"\u001b[39m)\n\u001b[0;32m     22\u001b[0m \u001b[38;5;28mprint\u001b[39m(output)\n",
      "Cell \u001b[1;32mIn[43], line 6\u001b[0m, in \u001b[0;36madd_five\u001b[1;34m(number)\u001b[0m\n\u001b[0;32m      4\u001b[0m \u001b[38;5;28;01mdef\u001b[39;00m \u001b[38;5;21madd_five\u001b[39m(number: \u001b[38;5;28mint\u001b[39m) \u001b[38;5;241m-\u001b[39m\u001b[38;5;241m>\u001b[39m \u001b[38;5;28mint\u001b[39m:\n\u001b[0;32m      5\u001b[0m \u001b[38;5;250m    \u001b[39m\u001b[38;5;124;03m\"\"\"Adds 5 to `number` and returns the result\"\"\"\u001b[39;00m\n\u001b[1;32m----> 6\u001b[0m     number \u001b[38;5;241m=\u001b[39m \u001b[38;5;28mint\u001b[39m(number)\n\u001b[0;32m      7\u001b[0m     \u001b[38;5;28;01mreturn\u001b[39;00m \u001b[38;5;241m5\u001b[39m \u001b[38;5;241m+\u001b[39m number\n",
      "\u001b[1;31mValueError\u001b[0m: invalid literal for int() with base 10: 'hello'"
     ]
    }
   ],
   "source": [
    "# try to convert into an int before the operation\n",
    "# redefine the function \n",
    "\n",
    "def add_five(number: int) -> int:\n",
    "    \"\"\"Adds 5 to `number` and returns the result\"\"\"\n",
    "    number = int(number)\n",
    "    return 5 + number\n",
    "\n",
    "#try \n",
    "\n",
    "# Passing a float --> returns an int\n",
    "result = add_five(\"6\")\n",
    "print(result)\n",
    "print(type(result))\n",
    "\n",
    "# Passing a float --> returns an int\n",
    "result = add_five(6.0)\n",
    "print(result)\n",
    "print(type(result))\n",
    "\n",
    "#but no error message if we used non-castable string :\n",
    "output = add_five(\"hello\")\n",
    "print(output)"
   ]
  },
  {
   "cell_type": "code",
   "execution_count": 45,
   "id": "ab8e7ead",
   "metadata": {},
   "outputs": [
    {
     "ename": "NameError",
     "evalue": "name 'e' is not defined",
     "output_type": "error",
     "traceback": [
      "\u001b[1;31m---------------------------------------------------------------------------\u001b[0m",
      "\u001b[1;31mValueError\u001b[0m                                Traceback (most recent call last)",
      "Cell \u001b[1;32mIn[45], line 8\u001b[0m, in \u001b[0;36madd_five\u001b[1;34m(number)\u001b[0m\n\u001b[0;32m      7\u001b[0m \u001b[38;5;28;01mtry\u001b[39;00m:   \u001b[38;5;66;03m# program attempts to execute this code\u001b[39;00m\n\u001b[1;32m----> 8\u001b[0m     number \u001b[38;5;241m=\u001b[39m \u001b[38;5;28mint\u001b[39m(number)\n\u001b[0;32m     10\u001b[0m \u001b[38;5;28;01mexcept\u001b[39;00m \u001b[38;5;167;01mValueError\u001b[39;00m:     \u001b[38;5;66;03m# unless there's an ValueError: catch it...\u001b[39;00m\n",
      "\u001b[1;31mValueError\u001b[0m: invalid literal for int() with base 10: 'hello'",
      "\nDuring handling of the above exception, another exception occurred:\n",
      "\u001b[1;31mNameError\u001b[0m                                 Traceback (most recent call last)",
      "Cell \u001b[1;32mIn[45], line 20\u001b[0m\n\u001b[0;32m     17\u001b[0m     \u001b[38;5;28;01mreturn\u001b[39;00m \u001b[38;5;241m5\u001b[39m \u001b[38;5;241m+\u001b[39m number\n\u001b[0;32m     19\u001b[0m \u001b[38;5;66;03m# More meaningful error message raised\u001b[39;00m\n\u001b[1;32m---> 20\u001b[0m add_five(\u001b[38;5;124m\"\u001b[39m\u001b[38;5;124mhello\u001b[39m\u001b[38;5;124m\"\u001b[39m)\n",
      "Cell \u001b[1;32mIn[45], line 14\u001b[0m, in \u001b[0;36madd_five\u001b[1;34m(number)\u001b[0m\n\u001b[0;32m      8\u001b[0m     number \u001b[38;5;241m=\u001b[39m \u001b[38;5;28mint\u001b[39m(number)\n\u001b[0;32m     10\u001b[0m \u001b[38;5;28;01mexcept\u001b[39;00m \u001b[38;5;167;01mValueError\u001b[39;00m:     \u001b[38;5;66;03m# unless there's an ValueError: catch it...\u001b[39;00m\n\u001b[0;32m     11\u001b[0m     \u001b[38;5;28;01mraise\u001b[39;00m \u001b[38;5;167;01mValueError\u001b[39;00m(  \u001b[38;5;66;03m# ... and raise a new ValueError with a meaningful message\u001b[39;00m\n\u001b[0;32m     12\u001b[0m         \u001b[38;5;124mf\u001b[39m\u001b[38;5;124m\"\u001b[39m\u001b[38;5;124mInvalid input argument: \u001b[39m\u001b[38;5;124m'\u001b[39m\u001b[38;5;132;01m{\u001b[39;00mnumber\u001b[38;5;132;01m}\u001b[39;00m\u001b[38;5;124m'\u001b[39m\u001b[38;5;124m.\u001b[39m\u001b[38;5;124m\"\u001b[39m\n\u001b[0;32m     13\u001b[0m         \u001b[38;5;124m\"\u001b[39m\u001b[38;5;124m `number` must be an int, or convertible to an int.\u001b[39m\u001b[38;5;124m\"\u001b[39m\n\u001b[1;32m---> 14\u001b[0m         \u001b[38;5;124mf\u001b[39m\u001b[38;5;124m\"\u001b[39m\u001b[38;5;124m Original error message: \u001b[39m\u001b[38;5;132;01m{\u001b[39;00me\u001b[38;5;132;01m}\u001b[39;00m\u001b[38;5;124m\"\u001b[39m\n\u001b[0;32m     15\u001b[0m     )\n\u001b[0;32m     17\u001b[0m \u001b[38;5;28;01mreturn\u001b[39;00m \u001b[38;5;241m5\u001b[39m \u001b[38;5;241m+\u001b[39m number\n",
      "\u001b[1;31mNameError\u001b[0m: name 'e' is not defined"
     ]
    }
   ],
   "source": [
    "# for this : use try/except --> catch the error before \n",
    "#By placing number = int(number) within a try block, we attempt to cast the input argument to an int, but if a ValueError is raised, the except block is executed, where we can raise a meaningful error message.\n",
    "\n",
    "def add_five(number: int) -> int:\n",
    "    \"\"\"Adds 5 to `number` and returns the result\"\"\"\n",
    "    \n",
    "    try:   # program attempts to execute this code\n",
    "        number = int(number)\n",
    "\n",
    "    except ValueError:     # unless there's an ValueError: catch it...\n",
    "        raise ValueError(  # ... and raise a new ValueError with a meaningful message\n",
    "            f\"Invalid input argument: '{number}'.\"\n",
    "            \" `number` must be an int, or convertible to an int.\"\n",
    "            f\" Original error message: {e}\"\n",
    "        )\n",
    "    \n",
    "    return 5 + number\n",
    "\n",
    "# More meaningful error message raised\n",
    "add_five(\"hello\")\n"
   ]
  },
  {
   "cell_type": "code",
   "execution_count": 47,
   "id": "07fbb0a4",
   "metadata": {},
   "outputs": [],
   "source": [
    "# now we want to pass input arguments in floats in the reaction_yield function and if it's not the case convert the argument to floats and have a meanfull message if it's not possible\n",
    "\n",
    "def reaction_yield(theoretical_yield: float, actual_yield: float) -> float:\n",
    "    \"\"\"\n",
    "    Calculates the percent yield of a reaction.\n",
    "\n",
    "    :param theoretical_yield: float, the theoretical yield of the reaction, in grams.\n",
    "    :param actual_yield: float, the actual yield obtained from the reaction, in grams.\n",
    "    \n",
    "    :return: float, the yield of the reaction as a percentage.\n",
    "    \"\"\"\n",
    "    # Type checks: input yields should be passed as floats. If not, attempt to convert\n",
    "    # them to a float. If this fails, raise an error.\n",
    "    if not isinstance(theoretical_yield, float):\n",
    "        try:  \n",
    "            theoretical_yield = float(theoretical_yield)\n",
    "        except ValueError as e:\n",
    "            raise ValueError(\n",
    "                f\"Invalid input '{theoretical_yield}': `theoretical_yield`\"\n",
    "                \" should be passed as a float, or be convertible to a float.\"\n",
    "                f\" Original error: {e}\"\n",
    "            )\n",
    "\n",
    "    if not isinstance(actual_yield, float):\n",
    "        try:\n",
    "            actual_yield = float(actual_yield)\n",
    "        except ValueError as e:\n",
    "            raise ValueError(\n",
    "                f\"Invalid input '{actual_yield}': `actual_yield`\"\n",
    "                \" should be passed as a float, or be convertible to a float.\"\n",
    "                f\" Original error: {e}\"\n",
    "            )\n",
    "\n",
    "    # Input value checks\n",
    "    if theoretical_yield < 0 or actual_yield < 0:  # yields should be non-negative\n",
    "        raise ValueError(\"Input yields must be a non-negative float\")\n",
    "\n",
    "    if actual_yield > theoretical_yield:  # actual yield can't be more than the theoretical\n",
    "        raise ValueError(\"Actual yield cannot be more than the theoretical yield\")\n",
    "\n",
    "    # Calculate the yield and return\n",
    "    percent_yield = (actual_yield / theoretical_yield) * 100\n",
    "\n",
    "    return percent_yield"
   ]
  },
  {
   "cell_type": "code",
   "execution_count": 49,
   "id": "38ff5d03",
   "metadata": {},
   "outputs": [
    {
     "data": {
      "text/plain": [
       "87.5"
      ]
     },
     "execution_count": 49,
     "metadata": {},
     "output_type": "execute_result"
    }
   ],
   "source": [
    "# try the code : \n",
    "\n",
    "# Now if we run with strings that are convertible to floats, the function works!\n",
    "reaction_yield(\"80\", \"70\")\n",
    "\n",
    "\n"
   ]
  },
  {
   "cell_type": "code",
   "execution_count": 50,
   "id": "2f79ee8f",
   "metadata": {},
   "outputs": [
    {
     "ename": "ValueError",
     "evalue": "Invalid input 'hello': `actual_yield` should be passed as a float, or be convertible to a float. Original error: could not convert string to float: 'hello'",
     "output_type": "error",
     "traceback": [
      "\u001b[1;31m---------------------------------------------------------------------------\u001b[0m",
      "\u001b[1;31mValueError\u001b[0m                                Traceback (most recent call last)",
      "Cell \u001b[1;32mIn[47], line 26\u001b[0m, in \u001b[0;36mreaction_yield\u001b[1;34m(theoretical_yield, actual_yield)\u001b[0m\n\u001b[0;32m     25\u001b[0m \u001b[38;5;28;01mtry\u001b[39;00m:\n\u001b[1;32m---> 26\u001b[0m     actual_yield \u001b[38;5;241m=\u001b[39m \u001b[38;5;28mfloat\u001b[39m(actual_yield)\n\u001b[0;32m     27\u001b[0m \u001b[38;5;28;01mexcept\u001b[39;00m \u001b[38;5;167;01mValueError\u001b[39;00m \u001b[38;5;28;01mas\u001b[39;00m e:\n",
      "\u001b[1;31mValueError\u001b[0m: could not convert string to float: 'hello'",
      "\nDuring handling of the above exception, another exception occurred:\n",
      "\u001b[1;31mValueError\u001b[0m                                Traceback (most recent call last)",
      "Cell \u001b[1;32mIn[50], line 4\u001b[0m\n\u001b[0;32m      1\u001b[0m \u001b[38;5;66;03m# try the code : \u001b[39;00m\n\u001b[0;32m      2\u001b[0m \n\u001b[0;32m      3\u001b[0m \u001b[38;5;66;03m# But if they are non-convertible, we get a nicer error message\u001b[39;00m\n\u001b[1;32m----> 4\u001b[0m reaction_yield(\u001b[38;5;241m4.0\u001b[39m, \u001b[38;5;124m\"\u001b[39m\u001b[38;5;124mhello\u001b[39m\u001b[38;5;124m\"\u001b[39m)\n",
      "Cell \u001b[1;32mIn[47], line 28\u001b[0m, in \u001b[0;36mreaction_yield\u001b[1;34m(theoretical_yield, actual_yield)\u001b[0m\n\u001b[0;32m     26\u001b[0m         actual_yield \u001b[38;5;241m=\u001b[39m \u001b[38;5;28mfloat\u001b[39m(actual_yield)\n\u001b[0;32m     27\u001b[0m     \u001b[38;5;28;01mexcept\u001b[39;00m \u001b[38;5;167;01mValueError\u001b[39;00m \u001b[38;5;28;01mas\u001b[39;00m e:\n\u001b[1;32m---> 28\u001b[0m         \u001b[38;5;28;01mraise\u001b[39;00m \u001b[38;5;167;01mValueError\u001b[39;00m(\n\u001b[0;32m     29\u001b[0m             \u001b[38;5;124mf\u001b[39m\u001b[38;5;124m\"\u001b[39m\u001b[38;5;124mInvalid input \u001b[39m\u001b[38;5;124m'\u001b[39m\u001b[38;5;132;01m{\u001b[39;00mactual_yield\u001b[38;5;132;01m}\u001b[39;00m\u001b[38;5;124m'\u001b[39m\u001b[38;5;124m: `actual_yield`\u001b[39m\u001b[38;5;124m\"\u001b[39m\n\u001b[0;32m     30\u001b[0m             \u001b[38;5;124m\"\u001b[39m\u001b[38;5;124m should be passed as a float, or be convertible to a float.\u001b[39m\u001b[38;5;124m\"\u001b[39m\n\u001b[0;32m     31\u001b[0m             \u001b[38;5;124mf\u001b[39m\u001b[38;5;124m\"\u001b[39m\u001b[38;5;124m Original error: \u001b[39m\u001b[38;5;132;01m{\u001b[39;00me\u001b[38;5;132;01m}\u001b[39;00m\u001b[38;5;124m\"\u001b[39m\n\u001b[0;32m     32\u001b[0m         )\n\u001b[0;32m     34\u001b[0m \u001b[38;5;66;03m# Input value checks\u001b[39;00m\n\u001b[0;32m     35\u001b[0m \u001b[38;5;28;01mif\u001b[39;00m theoretical_yield \u001b[38;5;241m<\u001b[39m \u001b[38;5;241m0\u001b[39m \u001b[38;5;129;01mor\u001b[39;00m actual_yield \u001b[38;5;241m<\u001b[39m \u001b[38;5;241m0\u001b[39m:  \u001b[38;5;66;03m# yields should be non-negative\u001b[39;00m\n",
      "\u001b[1;31mValueError\u001b[0m: Invalid input 'hello': `actual_yield` should be passed as a float, or be convertible to a float. Original error: could not convert string to float: 'hello'"
     ]
    }
   ],
   "source": [
    "# try the code : \n",
    "\n",
    "# But if they are non-convertible, we get a nicer error message\n",
    "reaction_yield(4.0, \"hello\")"
   ]
  },
  {
   "cell_type": "code",
   "execution_count": 68,
   "id": "f488a28d",
   "metadata": {},
   "outputs": [
    {
     "name": "stdout",
     "output_type": "stream",
     "text": [
      "Line number: 0\n",
      "    Line read from file: # Scientist Name | Theoretical Yield (g) | Actual Yield (g)\n",
      "    Comment line, not extracting data\n",
      "\n",
      "Line number: 1\n",
      "    Line read from file: Philippe 5.0 2.78\n",
      "    Data line, extracting data\n",
      "    Data on line: ['Philippe', '5.0', '2.78']\n",
      "    Data types: [<class 'str'>, <class 'str'>, <class 'str'>]\n",
      "    Scientist: Philippe, reaction yield (%): 55.599999999999994\n",
      "\n",
      "Line number: 2\n",
      "    Line read from file: Rebecca 4.0 2.0\n",
      "    Data line, extracting data\n",
      "    Data on line: ['Rebecca', '4.0', '2.0']\n",
      "    Data types: [<class 'str'>, <class 'str'>, <class 'str'>]\n",
      "    Scientist: Rebecca, reaction yield (%): 50.0\n",
      "\n",
      "Line number: 3\n",
      "    Line read from file: Sarina 0.1 0.09\n",
      "    Data line, extracting data\n",
      "    Data on line: ['Sarina', '0.1', '0.09']\n",
      "    Data types: [<class 'str'>, <class 'str'>, <class 'str'>]\n",
      "    Scientist: Sarina, reaction yield (%): 89.99999999999999\n",
      "\n",
      "Line number: 4\n",
      "    Line read from file: Joe 1000.0 1.0\n",
      "    Data line, extracting data\n",
      "    Data on line: ['Joe', '1000.0', '1.0']\n",
      "    Data types: [<class 'str'>, <class 'str'>, <class 'str'>]\n",
      "    Scientist: Joe, reaction yield (%): 0.1\n",
      "\n",
      "Line number: 5\n",
      "    Line read from file: Daniel 3.14 2.0\n",
      "    Data line, extracting data\n",
      "    Data on line: ['Daniel', '3.14', '2.0']\n",
      "    Data types: [<class 'str'>, <class 'str'>, <class 'str'>]\n",
      "    Scientist: Daniel, reaction yield (%): 63.69426751592356\n",
      "\n"
     ]
    }
   ],
   "source": [
    "## Problem: bringing together loops, file reading, casting, and error handling\n",
    "#Now we'll try an example. Below is some code that reads a series of pairs of values from a data file called \"reaction_yields.txt\". Open and inspect the file.\n",
    "#The first row is the header, which tells us what is in each column. It starts with '#', so should be treated as a comment line and not as a data line. Each subsequent row contains 3 values, in order: the name of the scientist who conducted the experiment, the theoretical yield in grams, and the actual reaction yield in grams.\n",
    "#The following code parses the file to extract the data, and calculates the percentage yield. It then prints the results.\n",
    "\n",
    "reaction_yields = current_directory / \"reaction_yields.txt\"\n",
    "# Open the file\n",
    "with reaction_yields.open(\"r\") as file:  # \"r\" is read-mode\n",
    "\n",
    "    # Read the file and convert to a list, where each element in the list is a str\n",
    "    # containing each line.\n",
    "    lines = file.read().splitlines()  \n",
    "\n",
    "    for line_i, line in enumerate(lines):\n",
    "        print(f\"Line number: {line_i}\")\n",
    "        print(f\"    Line read from file: {line}\")\n",
    "\n",
    "        if line.startswith(\"#\"):\n",
    "            print(\"    Comment line, not extracting data\\n\")\n",
    "        else:\n",
    "            print(\"    Data line, extracting data\")\n",
    "\n",
    "            # Extract the values on each row by further splitting the line\n",
    "            line_data = line.split()\n",
    "            print(f\"    Data on line: {line_data}\")\n",
    "\n",
    "            # Unpack the values in the list\n",
    "            assert len(line_data) == 3\n",
    "            name, theoretical, actual = line_data\n",
    "            print(f\"    Data types: {[type(d) for d in line_data]}\")\n",
    "\n",
    "            # Calculate the percent yield and print the results\n",
    "            percent_yield = reaction_yield(theoretical, actual)  # call our function!\n",
    "            print(f\"    Scientist: {name}, reaction yield (%): {percent_yield}\\n\")\n"
   ]
  },
  {
   "cell_type": "code",
   "execution_count": 65,
   "id": "a520285b",
   "metadata": {},
   "outputs": [
    {
     "name": "stdout",
     "output_type": "stream",
     "text": [
      "Line number: 0\n",
      "    Line read from file: # Scientist Name | Theoretical Yield (g) | Actual Yield (g)\n",
      "    Comment line, not extracting data\n",
      "\n",
      "Line number: 1\n",
      "    Line read from file: Philippe 5.0 2.78\n",
      "    Data line, extracting data\n",
      "    Data on line: ['Philippe', '5.0', '2.78']\n",
      "    Data types: [<class 'str'>, <class 'str'>, <class 'str'>]\n",
      "    Scientist: Philippe, reaction yield (%): 55.599999999999994\n",
      "\n",
      "Line number: 2\n",
      "    Line read from file: Rebecca is myname\n",
      "    Data line, extracting data\n",
      "    Data on line: ['Rebecca', 'is', 'myname']\n",
      "    Data types: [<class 'str'>, <class 'str'>, <class 'str'>]\n",
      "    ERROR: Invalid input 'is': `theoretical_yield` should be passed as a float, or be convertible to a float. Original error: could not convert string to float: 'is'\n",
      "\n",
      "Line number: 3\n",
      "    Line read from file: Sarina 0.1 0.09\n",
      "    Data line, extracting data\n",
      "    Data on line: ['Sarina', '0.1', '0.09']\n",
      "    Data types: [<class 'str'>, <class 'str'>, <class 'str'>]\n",
      "    Scientist: Sarina, reaction yield (%): 89.99999999999999\n",
      "\n",
      "Line number: 4\n",
      "    Line read from file: Joe 1000.0 -1.0\n",
      "    Data line, extracting data\n",
      "    Data on line: ['Joe', '1000.0', '-1.0']\n",
      "    Data types: [<class 'str'>, <class 'str'>, <class 'str'>]\n",
      "    ERROR: Input yields must be a non-negative float\n",
      "\n",
      "Line number: 5\n",
      "    Line read from file: Daniel 3.14 3.15\n",
      "    Data line, extracting data\n",
      "    Data on line: ['Daniel', '3.14', '3.15']\n",
      "    Data types: [<class 'str'>, <class 'str'>, <class 'str'>]\n",
      "    ERROR: Actual yield cannot be more than the theoretical yield\n",
      "\n"
     ]
    }
   ],
   "source": [
    "# Define the path object for the file and check that it exists\n",
    "reaction_yield_file = current_directory / \"reaction_yield_with_errors.txt\"\n",
    "assert reaction_yield_file.exists()\n",
    "\n",
    "# Open the file\n",
    "with reaction_yield_file.open(\"r\") as file:  # \"r\" is read-mode\n",
    "\n",
    "    # Read the file and convert to a list, where each element in the list is a str\n",
    "    # containing each line.\n",
    "    lines = file.read().splitlines()  \n",
    "\n",
    "    for line_i, line in enumerate(lines):\n",
    "        print(f\"Line number: {line_i}\")\n",
    "        print(f\"    Line read from file: {line}\")\n",
    "\n",
    "        if line.startswith(\"#\"):\n",
    "            print(\"    Comment line, not extracting data\\n\")\n",
    "        else:\n",
    "            print(\"    Data line, extracting data\")\n",
    "\n",
    "            # Extract the values on each row by further splitting the line\n",
    "            line_data = line.split()\n",
    "            print(f\"    Data on line: {line_data}\")\n",
    "\n",
    "            # Unpack the values in the list\n",
    "            assert len(line_data) == 3\n",
    "            name, theoretical, actual = line_data\n",
    "            print(f\"    Data types: {[type(d) for d in line_data]}\")\n",
    "\n",
    "            # Calculate the percent yield and print the results\n",
    "            try:\n",
    "                percent_yield = reaction_yield(theoretical, actual)  # call our function!\n",
    "                print(f\"    Scientist: {name}, reaction yield (%): {percent_yield}\\n\")\n",
    "            except ValueError as e:\n",
    "                print(f\"    ERROR: {e}\\n\")"
   ]
  },
  {
   "cell_type": "code",
   "execution_count": null,
   "id": "d9774e89",
   "metadata": {},
   "outputs": [],
   "source": []
  }
 ],
 "metadata": {
  "kernelspec": {
   "display_name": "Python 3 (ipykernel)",
   "language": "python",
   "name": "python3"
  },
  "language_info": {
   "codemirror_mode": {
    "name": "ipython",
    "version": 3
   },
   "file_extension": ".py",
   "mimetype": "text/x-python",
   "name": "python",
   "nbconvert_exporter": "python",
   "pygments_lexer": "ipython3",
   "version": "3.11.5"
  }
 },
 "nbformat": 4,
 "nbformat_minor": 5
}
