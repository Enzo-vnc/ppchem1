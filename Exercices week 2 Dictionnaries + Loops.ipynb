{
 "cells": [
  {
   "cell_type": "code",
   "execution_count": 3,
   "id": "a478d2da",
   "metadata": {},
   "outputs": [
    {
     "name": "stdout",
     "output_type": "stream",
     "text": [
      "Base\n",
      "Acid\n"
     ]
    },
    {
     "ename": "KeyError",
     "evalue": "'HCl'",
     "output_type": "error",
     "traceback": [
      "\u001b[1;31m---------------------------------------------------------------------------\u001b[0m",
      "\u001b[1;31mKeyError\u001b[0m                                  Traceback (most recent call last)",
      "Cell \u001b[1;32mIn[3], line 23\u001b[0m\n\u001b[0;32m     19\u001b[0m \u001b[38;5;66;03m#Delete a pair \u001b[39;00m\n\u001b[0;32m     21\u001b[0m \u001b[38;5;28;01mdel\u001b[39;00m acid_bases[\u001b[38;5;124m'\u001b[39m\u001b[38;5;124mHCl\u001b[39m\u001b[38;5;124m'\u001b[39m]\n\u001b[1;32m---> 23\u001b[0m \u001b[38;5;28mprint\u001b[39m(acid_bases[\u001b[38;5;124m'\u001b[39m\u001b[38;5;124mHCl\u001b[39m\u001b[38;5;124m'\u001b[39m])\n",
      "\u001b[1;31mKeyError\u001b[0m: 'HCl'"
     ]
    }
   ],
   "source": [
    "### Dictionnaries\n",
    "\n",
    "#--> store data in a set of key in pairs, keys are unique but can have the same value \n",
    "\n",
    "#syntax used for make a dictionnarie \n",
    "\n",
    "acid_bases = {'NaBH4' : 'Base', 'H2SO4' : 'Acid', 'NaOH' : 'Base'}\n",
    "\n",
    "#For knowing a value of a key \n",
    "\n",
    "print(acid_bases['NaBH4'])\n",
    "\n",
    "#Add a new pair \n",
    "\n",
    "acid_bases['HCl'] = 'Acid'\n",
    "\n",
    "print(acid_bases['HCl'])\n",
    "\n",
    "#Delete a pair \n",
    "\n",
    "del acid_bases['HCl']\n",
    "\n",
    "print(acid_bases['HCl'])"
   ]
  },
  {
   "cell_type": "code",
   "execution_count": null,
   "id": "b552c7ce",
   "metadata": {},
   "outputs": [],
   "source": [
    "### Loops\n",
    "\n",
    "#--> Flow control --> ex. on a list \n",
    "## While --> checks conditions and if it's true execute the loop\n",
    "\n",
    "pH = 2  # Assume we start the pH at 2 (which is acidic)\n",
    "\n",
    "while pH != 7:  # while the pH is not neutral\n",
    "    print(f\"Current pH: {pH}\")\n",
    "    if pH < 7:  # if the environment is acidic\n",
    "        print(\"Solution is too acidic. Adding a base to increase pH.\")\n",
    "        pH += 1  # add a base to increase the pH\n",
    "    elif pH > 7:  # if the environment is basic\n",
    "        print(\"Solution is too basic. Adding an acid to decrease pH.\")\n",
    "        pH -= 1  # add an acid to reduce the pH\n",
    "        \n",
    "print(\"Solution is now neutral.\")"
   ]
  }
 ],
 "metadata": {
  "kernelspec": {
   "display_name": "Python 3 (ipykernel)",
   "language": "python",
   "name": "python3"
  },
  "language_info": {
   "codemirror_mode": {
    "name": "ipython",
    "version": 3
   },
   "file_extension": ".py",
   "mimetype": "text/x-python",
   "name": "python",
   "nbconvert_exporter": "python",
   "pygments_lexer": "ipython3",
   "version": "3.11.5"
  }
 },
 "nbformat": 4,
 "nbformat_minor": 5
}
