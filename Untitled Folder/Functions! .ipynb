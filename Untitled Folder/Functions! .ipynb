{
 "cells": [
  {
   "cell_type": "code",
   "execution_count": 2,
   "id": "1f07fcbb",
   "metadata": {},
   "outputs": [
    {
     "ename": "NameError",
     "evalue": "name 'Path' is not defined",
     "output_type": "error",
     "traceback": [
      "\u001b[1;31m---------------------------------------------------------------------------\u001b[0m",
      "\u001b[1;31mNameError\u001b[0m                                 Traceback (most recent call last)",
      "Cell \u001b[1;32mIn[2], line 5\u001b[0m\n\u001b[0;32m      1\u001b[0m \u001b[38;5;66;03m### Functions!\u001b[39;00m\n\u001b[0;32m      2\u001b[0m \n\u001b[0;32m      3\u001b[0m \u001b[38;5;66;03m# Check the existing files \u001b[39;00m\n\u001b[1;32m----> 5\u001b[0m \u001b[38;5;28;01mdef\u001b[39;00m \u001b[38;5;21mcheck_file_existence_and_read_contents\u001b[39m(file_path_object: Path):\n\u001b[0;32m      6\u001b[0m     \u001b[38;5;28;01mif\u001b[39;00m file_path_object\u001b[38;5;241m.\u001b[39mexists():  \u001b[38;5;66;03m# exists\u001b[39;00m\n\u001b[0;32m      7\u001b[0m \n\u001b[0;32m      8\u001b[0m         \u001b[38;5;66;03m# 'with' is what's known as acontext manager. It keeps the file open while we\u001b[39;00m\n\u001b[0;32m      9\u001b[0m         \u001b[38;5;66;03m# are running code inside the `with` block, but closes it when leaving the code\u001b[39;00m\n\u001b[0;32m     10\u001b[0m         \u001b[38;5;66;03m# block.\u001b[39;00m\n\u001b[0;32m     11\u001b[0m         \u001b[38;5;28;01mwith\u001b[39;00m file_path_object\u001b[38;5;241m.\u001b[39mopen(\u001b[38;5;124m\"\u001b[39m\u001b[38;5;124mr\u001b[39m\u001b[38;5;124m\"\u001b[39m) \u001b[38;5;28;01mas\u001b[39;00m file:\n",
      "\u001b[1;31mNameError\u001b[0m: name 'Path' is not defined"
     ]
    }
   ],
   "source": [
    "### Functions!\n",
    "\n",
    "# Check the existing files \n",
    "\n",
    "def check_file_existence_and_read_contents(file_path_object: Path):\n",
    "    if file_path_object.exists():  # exists\n",
    "\n",
    "        # 'with' is what's known as acontext manager. It keeps the file open while we\n",
    "        # are running code inside the `with` block, but closes it when leaving the code\n",
    "        # block.\n",
    "        with file_path_object.open(\"r\") as file:\n",
    "            content = file.read()  # read contents of the file\n",
    "\n",
    "            if len(content) == 0:  # empty\n",
    "                print(\"File exists but is empty.\")\n",
    "\n",
    "            else:  # not empty\n",
    "                print(content)\n",
    "\n",
    "    else:  # doesn't exist\n",
    "        print(\"The file does not exist.\")"
   ]
  },
  {
   "cell_type": "code",
   "execution_count": null,
   "id": "6ab557c1",
   "metadata": {},
   "outputs": [],
   "source": []
  }
 ],
 "metadata": {
  "kernelspec": {
   "display_name": "Python 3 (ipykernel)",
   "language": "python",
   "name": "python3"
  },
  "language_info": {
   "codemirror_mode": {
    "name": "ipython",
    "version": 3
   },
   "file_extension": ".py",
   "mimetype": "text/x-python",
   "name": "python",
   "nbconvert_exporter": "python",
   "pygments_lexer": "ipython3",
   "version": "3.11.5"
  }
 },
 "nbformat": 4,
 "nbformat_minor": 5
}
