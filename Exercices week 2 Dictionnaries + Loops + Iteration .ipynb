{
 "cells": [
  {
   "cell_type": "code",
   "execution_count": 3,
   "id": "a478d2da",
   "metadata": {},
   "outputs": [
    {
     "name": "stdout",
     "output_type": "stream",
     "text": [
      "Base\n",
      "Acid\n"
     ]
    },
    {
     "ename": "KeyError",
     "evalue": "'HCl'",
     "output_type": "error",
     "traceback": [
      "\u001b[1;31m---------------------------------------------------------------------------\u001b[0m",
      "\u001b[1;31mKeyError\u001b[0m                                  Traceback (most recent call last)",
      "Cell \u001b[1;32mIn[3], line 23\u001b[0m\n\u001b[0;32m     19\u001b[0m \u001b[38;5;66;03m#Delete a pair \u001b[39;00m\n\u001b[0;32m     21\u001b[0m \u001b[38;5;28;01mdel\u001b[39;00m acid_bases[\u001b[38;5;124m'\u001b[39m\u001b[38;5;124mHCl\u001b[39m\u001b[38;5;124m'\u001b[39m]\n\u001b[1;32m---> 23\u001b[0m \u001b[38;5;28mprint\u001b[39m(acid_bases[\u001b[38;5;124m'\u001b[39m\u001b[38;5;124mHCl\u001b[39m\u001b[38;5;124m'\u001b[39m])\n",
      "\u001b[1;31mKeyError\u001b[0m: 'HCl'"
     ]
    }
   ],
   "source": [
    "### Dictionnaries\n",
    "\n",
    "#--> store data in a set of key in pairs, keys are unique but can have the same value \n",
    "\n",
    "#syntax used for make a dictionnarie \n",
    "\n",
    "acid_bases = {'NaBH4' : 'Base', 'H2SO4' : 'Acid', 'NaOH' : 'Base'}\n",
    "\n",
    "#For knowing a value of a key \n",
    "\n",
    "print(acid_bases['NaBH4'])\n",
    "\n",
    "#Add a new pair \n",
    "\n",
    "acid_bases['HCl'] = 'Acid'\n",
    "\n",
    "print(acid_bases['HCl'])\n",
    "\n",
    "#Delete a pair \n",
    "\n",
    "del acid_bases['HCl']\n",
    "\n",
    "print(acid_bases['HCl'])"
   ]
  },
  {
   "cell_type": "code",
   "execution_count": 1,
   "id": "b552c7ce",
   "metadata": {},
   "outputs": [
    {
     "name": "stdout",
     "output_type": "stream",
     "text": [
      "Current pH: 2\n",
      "Solution is too acidic. Adding a base to increase pH.\n",
      "Current pH: 3\n",
      "Solution is too acidic. Adding a base to increase pH.\n",
      "Current pH: 4\n",
      "Solution is too acidic. Adding a base to increase pH.\n",
      "Current pH: 5\n",
      "Solution is too acidic. Adding a base to increase pH.\n",
      "Current pH: 6\n",
      "Solution is too acidic. Adding a base to increase pH.\n",
      "Solution is now neutral.\n"
     ]
    }
   ],
   "source": [
    "### Loops\n",
    "\n",
    "#--> Flow control --> ex. on a list \n",
    "## While --> checks conditions and if it's true execute the loop\n",
    "\n",
    "pH = 2  # Assume we start the pH at 2 (which is acidic)\n",
    "\n",
    "while pH != 7:  # while the pH is not neutral\n",
    "    print(f\"Current pH: {pH}\")\n",
    "    if pH < 7:  # if the environment is acidic\n",
    "        print(\"Solution is too acidic. Adding a base to increase pH.\")\n",
    "        pH += 1  # add a base to increase the pH\n",
    "    elif pH > 7:  # if the environment is basic\n",
    "        print(\"Solution is too basic. Adding an acid to decrease pH.\")\n",
    "        pH -= 1  # add an acid to reduce the pH\n",
    "        \n",
    "print(\"Solution is now neutral.\")"
   ]
  },
  {
   "cell_type": "code",
   "execution_count": 2,
   "id": "048ce5ac",
   "metadata": {},
   "outputs": [
    {
     "name": "stdout",
     "output_type": "stream",
     "text": [
      "Element 1: Hydrogen\n",
      "Element 2: Helium\n",
      "Element 3: Lithium\n",
      "Element 4: Beryllium\n",
      "Element 5: Boron\n",
      "Element 6: Carbon\n",
      "Element 7: Nitrogen\n",
      "Element 8: Oxygen\n",
      "Element 9: Fluorine\n"
     ]
    }
   ],
   "source": [
    "## While --> iterate over a sequence of numbers \n",
    "\n",
    "counter = 0\n",
    "max_count = 9\n",
    "\n",
    "# Here is the list of the first nine chemical elements:\n",
    "elements = [\"Hydrogen\", \"Helium\", \"Lithium\", \"Beryllium\", \"Boron\", \"Carbon\", \"Nitrogen\", \"Oxygen\", \"Fluorine\"]\n",
    "\n",
    "while counter < max_count:\n",
    "    # Here we print the element at the current index\n",
    "    # Note the adjustment for 0-based indexing\n",
    "    print(f\"Element {counter + 1}: {elements[counter]}\")\n",
    "    counter += 1"
   ]
  },
  {
   "cell_type": "code",
   "execution_count": 1,
   "id": "601123d1",
   "metadata": {},
   "outputs": [
    {
     "name": "stdout",
     "output_type": "stream",
     "text": [
      "Iron\n",
      "Zinc\n"
     ]
    }
   ],
   "source": [
    "## break --> stop iteration but loop continue \n",
    "\n",
    "elements = [\"Iron\", \"Copper\", \"Zinc\", \"Gold\", \"Silver\", \"Platinum\"]\n",
    "\n",
    "for element in elements:\n",
    "    if element == \"Copper\":\n",
    "        continue\n",
    "    if element == \"Gold\":\n",
    "        break\n",
    "    print(element)\n"
   ]
  },
  {
   "cell_type": "code",
   "execution_count": 2,
   "id": "9d472fda",
   "metadata": {},
   "outputs": [
    {
     "name": "stdout",
     "output_type": "stream",
     "text": [
      "The substance needs to be diluted 5 times to reach the desired concentration.\n"
     ]
    }
   ],
   "source": [
    " #You have a concentrated substance and want dilute it by halving its concentration until you reach a desired concentration. We are interested in knowing how many times you need to dilute a substance to get from a certain initial concentration to a particular final concentration.\n",
    "\n",
    "#Specifically, you are given an initial concentration of 50 g/L and desire a final concentration of 3 g/L. Each dilution process halve the current concentration. Compute how many times the dilution has to take place to reach or go below the desired final concentration.\n",
    "\n",
    "initial_concentration = 50\n",
    "\n",
    "final_concentration = 3\n",
    "\n",
    "# Counter for the number of dilutions\n",
    "dilution_count = 0\n",
    "\n",
    "while initial_concentration > final_concentration:\n",
    "    initial_concentration = initial_concentration / 2\n",
    "    dilution_count += 1\n",
    "\n",
    "print(\"The substance needs to be diluted {} times to reach the desired concentration.\".format(dilution_count))"
   ]
  },
  {
   "cell_type": "code",
   "execution_count": 7,
   "id": "0bb5e34b",
   "metadata": {},
   "outputs": [
    {
     "name": "stdout",
     "output_type": "stream",
     "text": [
      "Iron\n",
      "Copper\n",
      "Zinc\n",
      "Gold\n",
      "Silver\n",
      "Platinum\n",
      "['Iron', 'Copper', 'Zinc', 'Gold', 'Silver', 'Platinum']\n"
     ]
    }
   ],
   "source": [
    "## for --> used for iterable data and defined it like a sequence of elements\n",
    "for element in elements:\n",
    "    print(element)\n",
    "    \n",
    "#comparate to\n",
    "\n",
    "print(elements)\n",
    "\n",
    "#We can iterate in the inverse sens \n",
    "\n",
    "for element in reversed(elements):\n",
    "    print(element)"
   ]
  },
  {
   "cell_type": "code",
   "execution_count": 11,
   "id": "bc0a2a99",
   "metadata": {},
   "outputs": [
    {
     "name": "stdout",
     "output_type": "stream",
     "text": [
      "Iron: 1\n",
      "Copper: 2\n",
      "Zinc: 3\n",
      "Gold: 4\n",
      "Silver: 5\n",
      "Platinum: 6\n"
     ]
    }
   ],
   "source": [
    "# for knowing atomic nbr for the 9 first atoms :\n",
    "\n",
    "for idx, element in enumerate(elements):\n",
    "    print(f\"{element}: {idx + 1}\")\n",
    "    \n",
    "#for x, element ... x --> variable used in a function"
   ]
  },
  {
   "cell_type": "code",
   "execution_count": 10,
   "id": "a820d170",
   "metadata": {},
   "outputs": [
    {
     "name": "stdout",
     "output_type": "stream",
     "text": [
      "['Iron', 'Copper', 'Zinc', 'Gold', 'Silver', 'Platinum']\n"
     ]
    }
   ],
   "source": [
    "for idx, element in enumerate(reversed(elements)):\n",
    "    element = element.lower() + ' : ' + str(idx + 1)\n",
    "\n",
    "print(elements)"
   ]
  },
  {
   "cell_type": "code",
   "execution_count": 1,
   "id": "7332b5ab",
   "metadata": {},
   "outputs": [
    {
     "name": "stdout",
     "output_type": "stream",
     "text": [
      "['fluorine : 9', 'oxygen : 8', 'nitrogen : 7', 'carbon : 6', 'boron : 5', 'beryllium : 4', 'lithium : 3', 'helium : 2', 'hydrogen : 1']\n"
     ]
    }
   ],
   "source": [
    "#modify a list \n",
    "\n",
    "elements = [\"Hydrogen\", \"Helium\", \"Lithium\", \"Beryllium\", \"Boron\", \"Carbon\", \"Nitrogen\", \"Oxygen\", \"Fluorine\"]\n",
    "new_elements = []\n",
    "\n",
    "for idx, element in enumerate(reversed(elements)):\n",
    "    new_elements.append(element.lower() + ' : ' + str(len(elements) - idx))\n",
    "elements = new_elements\n",
    "\n",
    "print(elements)"
   ]
  },
  {
   "cell_type": "code",
   "execution_count": 6,
   "id": "34a45822",
   "metadata": {},
   "outputs": [
    {
     "name": "stdout",
     "output_type": "stream",
     "text": [
      "A is less than B\n"
     ]
    }
   ],
   "source": [
    "### Iteration\n",
    "\n",
    "#knowing if A is less than B or inverse \n",
    "\n",
    "A = 4\n",
    "B = 9\n",
    "\n",
    "if A < B:\n",
    "    print('A is less than B')\n",
    "elif A > B:\n",
    "    print('A is greater than B')\n",
    "# As A is not less than B and A is not greater than B, A must be equal to B. This gets rid of the unnecessary check in elif\n",
    "else:\n",
    "    print('A is equal to B')"
   ]
  },
  {
   "cell_type": "code",
   "execution_count": 7,
   "id": "3665240d",
   "metadata": {},
   "outputs": [
    {
     "name": "stdout",
     "output_type": "stream",
     "text": [
      "Your code worked! Average number of comparisons per search = 5604550.2\n"
     ]
    }
   ],
   "source": [
    "\n",
    "def test_function(inp_list, tgts):\n",
    "    found_tgts = []\n",
    "    for tgt in tgts:\n",
    "        if tgt in inp_list:\n",
    "            found_tgts.append(tgt)\n",
    "    return found_tgts\n",
    "import random\n",
    "\n",
    "MAX_SIZE = 10000000 # This is the maximum value of the numbers in the list\n",
    "MAX_TGT_VALUE = 10000000 # This is the maximum value of the target numbers\n",
    "LENGTH = 10000000 # This is the length of the list\n",
    "\n",
    "# Here we declare a list of random numbers and a list of random target numbers\n",
    "random_integers = [random.randint(0, MAX_SIZE) for i in range(LENGTH)]\n",
    "target_integers = [random.randint(0, MAX_TGT_VALUE) for i in range(10)]\n",
    "targets_found = []\n",
    "\n",
    "comparison_counter = 0\n",
    "for target in target_integers:\n",
    "    for num in random_integers:\n",
    "        comparison_counter += 1\n",
    "        if num == target:\n",
    "            targets_found.append(target)\n",
    "            break\n",
    "\n",
    "# Test your code\n",
    "assert targets_found == test_function(random_integers, target_integers)\n",
    "print(f'Your code worked! Average number of comparisons per search = {comparison_counter/len(target_integers)}')"
   ]
  },
  {
   "cell_type": "code",
   "execution_count": 4,
   "id": "87f1c933",
   "metadata": {},
   "outputs": [
    {
     "ename": "NameError",
     "evalue": "name 'random' is not defined",
     "output_type": "error",
     "traceback": [
      "\u001b[1;31m---------------------------------------------------------------------------\u001b[0m",
      "\u001b[1;31mNameError\u001b[0m                                 Traceback (most recent call last)",
      "Cell \u001b[1;32mIn[4], line 13\u001b[0m\n\u001b[0;32m     10\u001b[0m LENGTH \u001b[38;5;241m=\u001b[39m \u001b[38;5;241m10000000\u001b[39m \u001b[38;5;66;03m# This is the length of the list\u001b[39;00m\n\u001b[0;32m     12\u001b[0m \u001b[38;5;66;03m# Here we declare a list of random numbers and a list of random target numbers\u001b[39;00m\n\u001b[1;32m---> 13\u001b[0m random_list \u001b[38;5;241m=\u001b[39m [random\u001b[38;5;241m.\u001b[39mrandint(\u001b[38;5;241m0\u001b[39m, MAX_SIZE) \u001b[38;5;28;01mfor\u001b[39;00m i \u001b[38;5;129;01min\u001b[39;00m \u001b[38;5;28mrange\u001b[39m(LENGTH)]\n\u001b[0;32m     14\u001b[0m sorted_list \u001b[38;5;241m=\u001b[39m \u001b[38;5;28msorted\u001b[39m(random_list)\n\u001b[0;32m     15\u001b[0m target_integers \u001b[38;5;241m=\u001b[39m [random\u001b[38;5;241m.\u001b[39mrandint(\u001b[38;5;241m0\u001b[39m, MAX_TGT_VALUE) \u001b[38;5;28;01mfor\u001b[39;00m i \u001b[38;5;129;01min\u001b[39;00m \u001b[38;5;28mrange\u001b[39m(\u001b[38;5;241m10\u001b[39m)]\n",
      "Cell \u001b[1;32mIn[4], line 13\u001b[0m, in \u001b[0;36m<listcomp>\u001b[1;34m(.0)\u001b[0m\n\u001b[0;32m     10\u001b[0m LENGTH \u001b[38;5;241m=\u001b[39m \u001b[38;5;241m10000000\u001b[39m \u001b[38;5;66;03m# This is the length of the list\u001b[39;00m\n\u001b[0;32m     12\u001b[0m \u001b[38;5;66;03m# Here we declare a list of random numbers and a list of random target numbers\u001b[39;00m\n\u001b[1;32m---> 13\u001b[0m random_list \u001b[38;5;241m=\u001b[39m [random\u001b[38;5;241m.\u001b[39mrandint(\u001b[38;5;241m0\u001b[39m, MAX_SIZE) \u001b[38;5;28;01mfor\u001b[39;00m i \u001b[38;5;129;01min\u001b[39;00m \u001b[38;5;28mrange\u001b[39m(LENGTH)]\n\u001b[0;32m     14\u001b[0m sorted_list \u001b[38;5;241m=\u001b[39m \u001b[38;5;28msorted\u001b[39m(random_list)\n\u001b[0;32m     15\u001b[0m target_integers \u001b[38;5;241m=\u001b[39m [random\u001b[38;5;241m.\u001b[39mrandint(\u001b[38;5;241m0\u001b[39m, MAX_TGT_VALUE) \u001b[38;5;28;01mfor\u001b[39;00m i \u001b[38;5;129;01min\u001b[39;00m \u001b[38;5;28mrange\u001b[39m(\u001b[38;5;241m10\u001b[39m)]\n",
      "\u001b[1;31mNameError\u001b[0m: name 'random' is not defined"
     ]
    }
   ],
   "source": [
    "### Binary Search \n",
    "#--> Search more effectively in a random bundle in a list\n",
    "#--> organise the list before search (very faster)\n",
    "#--> take a value in middle and see if it's under or over etc...\n",
    "\n",
    "#Using the previous code --> dividing a list in two, implement a binary search and count the number of comparisons.\n",
    "\n",
    "MAX_SIZE = 10000000 # This is the maximum value of the numbers in the list\n",
    "MAX_TGT_VALUE = 10000000 # This is the maximum value of the target numbers\n",
    "LENGTH = 10000000 # This is the length of the list\n",
    "\n",
    "# Here we declare a list of random numbers and a list of random target numbers\n",
    "random_list = [random.randint(0, MAX_SIZE) for i in range(LENGTH)]\n",
    "sorted_list = sorted(random_list)\n",
    "target_integers = [random.randint(0, MAX_TGT_VALUE) for i in range(10)]\n",
    "targets_found = []\n",
    "\n"
   ]
  },
  {
   "cell_type": "code",
   "execution_count": 3,
   "id": "34c4ef6d",
   "metadata": {},
   "outputs": [
    {
     "ename": "NameError",
     "evalue": "name 'target_integers' is not defined",
     "output_type": "error",
     "traceback": [
      "\u001b[1;31m---------------------------------------------------------------------------\u001b[0m",
      "\u001b[1;31mNameError\u001b[0m                                 Traceback (most recent call last)",
      "Cell \u001b[1;32mIn[3], line 4\u001b[0m\n\u001b[0;32m      1\u001b[0m comparison_counter \u001b[38;5;241m=\u001b[39m \u001b[38;5;241m0\u001b[39m\n\u001b[0;32m      3\u001b[0m \u001b[38;5;66;03m# Iterate through our targets\u001b[39;00m\n\u001b[1;32m----> 4\u001b[0m \u001b[38;5;28;01mfor\u001b[39;00m target \u001b[38;5;129;01min\u001b[39;00m target_integers:\n\u001b[0;32m      5\u001b[0m     \u001b[38;5;66;03m# Create a copy of the list here to avoid overwriting the original list\u001b[39;00m\n\u001b[0;32m      6\u001b[0m     temporary_list \u001b[38;5;241m=\u001b[39m sorted_list\u001b[38;5;241m.\u001b[39mcopy()\n\u001b[0;32m      8\u001b[0m     \u001b[38;5;66;03m# first we continue iterating our code until the list is size 1\u001b[39;00m\n",
      "\u001b[1;31mNameError\u001b[0m: name 'target_integers' is not defined"
     ]
    }
   ],
   "source": [
    "comparison_counter = 0\n",
    "\n",
    "# Iterate through our targets\n",
    "for target in target_integers:\n",
    "    # Create a copy of the list here to avoid overwriting the original list\n",
    "    temporary_list = sorted_list.copy()\n",
    "\n",
    "    # first we continue iterating our code until the list is size 1\n",
    "    while len(temporary_list) >= 1:\n",
    "        # Here we check if the sub list is of size 1 and if so check if we have found the target\n",
    "        if len(temporary_list) == 1:\n",
    "            if temporary_list[0] == target:\n",
    "                targets_found.append(target)\n",
    "            break\n",
    "        \n",
    "        # Now we know the list isn't of length 1, we find the middle index\n",
    "        mid = (len(temporary_list) + 1) // 2\n",
    "        if temporary_list[mid] == target:\n",
    "            targets_found.append(target)\n",
    "            break\n",
    "\n",
    "        # If the middle value is less than the target, we continue searching the right half of the list\n",
    "        elif temporary_list[mid] < target:\n",
    "            temporary_list = temporary_list[mid:]\n",
    "        # If the middle value is greater than the target, we continue searching the left half of the list\n",
    "        else:\n",
    "            temporary_list = temporary_list[:mid]\n",
    "        comparison_counter += 1\n",
    "\n",
    "# Test your code\n",
    "assert targets_found == test_function(random_list, target_integers)\n",
    "print(f'Your code worked! Average number of comparisons per search = {comparison_counter/len(tgts)}')"
   ]
  },
  {
   "cell_type": "code",
   "execution_count": null,
   "id": "6f95b439",
   "metadata": {},
   "outputs": [],
   "source": []
  },
  {
   "cell_type": "code",
   "execution_count": null,
   "id": "6503ebb2",
   "metadata": {},
   "outputs": [],
   "source": []
  }
 ],
 "metadata": {
  "kernelspec": {
   "display_name": "Python 3 (ipykernel)",
   "language": "python",
   "name": "python3"
  },
  "language_info": {
   "codemirror_mode": {
    "name": "ipython",
    "version": 3
   },
   "file_extension": ".py",
   "mimetype": "text/x-python",
   "name": "python",
   "nbconvert_exporter": "python",
   "pygments_lexer": "ipython3",
   "version": "3.11.5"
  }
 },
 "nbformat": 4,
 "nbformat_minor": 5
}
