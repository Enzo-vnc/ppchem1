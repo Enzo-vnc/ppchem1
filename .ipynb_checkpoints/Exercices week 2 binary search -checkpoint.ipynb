{
 "cells": [
  {
   "cell_type": "code",
   "execution_count": 7,
   "id": "79d36b4d",
   "metadata": {},
   "outputs": [
    {
     "name": "stdout",
     "output_type": "stream",
     "text": [
      "Your code worked! Average number of comparisons per search = 21.3\n"
     ]
    }
   ],
   "source": [
    "### Binary Search \n",
    "#--> Search more effectively in a random bundle in a list\n",
    "#--> organise the list before search (very faster)\n",
    "#--> take a value in middle and see if it's under or over etc...\n",
    "\n",
    "#Using the previous code --> dividing a list in two, implement a binary search and count the number of comparisons.\n",
    "import random \n",
    "\n",
    "def test_function(inp_list, tgts):\n",
    "    found_tgts = []\n",
    "    for tgt in tgts:\n",
    "        if tgt in inp_list:\n",
    "            found_tgts.append(tgt)\n",
    "    return found_tgts\n",
    "\n",
    "MAX_SIZE = 10000000 # This is the maximum value of the numbers in the list\n",
    "MAX_TGT_VALUE = 10000000 # This is the maximum value of the target numbers\n",
    "LENGTH = 10000000 # This is the length of the list\n",
    "\n",
    "# Here we declare a list of random numbers and a list of random target numbers\n",
    "random_list = [random.randint(0, MAX_SIZE) for i in range(LENGTH)]\n",
    "sorted_list = sorted(random_list)\n",
    "target_integers = [random.randint(0, MAX_TGT_VALUE) for i in range(10)]\n",
    "targets_found = []\n",
    "comparison_counter = 0\n",
    "\n",
    "# Iterate through our targets\n",
    "for target in target_integers:\n",
    "    # Create a copy of the list here to avoid overwriting the original list\n",
    "    temporary_list = sorted_list.copy()\n",
    "\n",
    "    # first we continue iterating our code until the list is size 1\n",
    "    while len(temporary_list) >= 1:\n",
    "        # Here we check if the sub list is of size 1 and if so check if we have found the target\n",
    "        if len(temporary_list) == 1:\n",
    "            if temporary_list[0] == target:\n",
    "                targets_found.append(target)\n",
    "            break\n",
    "        \n",
    "        # Now we know the list isn't of length 1, we find the middle index\n",
    "        mid = (len(temporary_list) + 1) // 2\n",
    "        if temporary_list[mid] == target:\n",
    "            targets_found.append(target)\n",
    "            break\n",
    "\n",
    "        # If the middle value is less than the target, we continue searching the right half of the list\n",
    "        elif temporary_list[mid] < target:\n",
    "            temporary_list = temporary_list[mid:]\n",
    "        # If the middle value is greater than the target, we continue searching the left half of the list\n",
    "        else:\n",
    "            temporary_list = temporary_list[:mid]\n",
    "        comparison_counter += 1\n",
    "\n",
    "# Test your code\n",
    "assert targets_found == test_function(random_list, target_integers)\n",
    "print(f'Your code worked! Average number of comparisons per search = {comparison_counter/len(target_integers)}')"
   ]
  },
  {
   "cell_type": "code",
   "execution_count": null,
   "id": "fb4e0a67",
   "metadata": {},
   "outputs": [],
   "source": []
  }
 ],
 "metadata": {
  "kernelspec": {
   "display_name": "Python 3 (ipykernel)",
   "language": "python",
   "name": "python3"
  },
  "language_info": {
   "codemirror_mode": {
    "name": "ipython",
    "version": 3
   },
   "file_extension": ".py",
   "mimetype": "text/x-python",
   "name": "python",
   "nbconvert_exporter": "python",
   "pygments_lexer": "ipython3",
   "version": "3.11.5"
  }
 },
 "nbformat": 4,
 "nbformat_minor": 5
}
