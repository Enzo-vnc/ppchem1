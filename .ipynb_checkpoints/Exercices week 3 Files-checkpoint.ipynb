{
 "cells": [
  {
   "cell_type": "code",
   "execution_count": 13,
   "id": "4220cc0b",
   "metadata": {},
   "outputs": [
    {
     "name": "stdout",
     "output_type": "stream",
     "text": [
      "Current Directory: C:\\Users\\venan\\ppchem\n",
      "Hello \n"
     ]
    }
   ],
   "source": [
    "### Writing and reading files \n",
    "#Define a Path with a pathlib module --> read the content of the file if it exist\n",
    "\n",
    "from pathlib import Path\n",
    "\n",
    "# Create a Path object for the current directory\n",
    "current_directory = Path.cwd()\n",
    "print(\"Current Directory:\", current_directory.resolve())\n",
    "\n",
    "# Creating a Path object for an example file that does not yet exist\n",
    "example_file_path = current_directory / \"example.txt\"\n",
    "\n",
    "# Reading the contents of the file\n",
    "if example_file_path.exists():\n",
    "    with example_file_path.open(\"r\") as file:\n",
    "        content = file.read()\n",
    "        print(content)\n",
    "else:\n",
    "    print(\"The file does not exist.\")"
   ]
  },
  {
   "cell_type": "code",
   "execution_count": 14,
   "id": "865fd860",
   "metadata": {},
   "outputs": [
    {
     "name": "stdout",
     "output_type": "stream",
     "text": [
      "Hello \n"
     ]
    }
   ],
   "source": [
    "example_file_path.touch()\n",
    "\n",
    "# Reading the contents of the file\n",
    "if example_file_path.exists():\n",
    "    with example_file_path.open(\"r\") as file:\n",
    "        content = file.read()\n",
    "        print(content)\n",
    "else:\n",
    "    print(\"The file does not exist.\")"
   ]
  },
  {
   "cell_type": "code",
   "execution_count": 15,
   "id": "31174e5c",
   "metadata": {},
   "outputs": [
    {
     "name": "stdout",
     "output_type": "stream",
     "text": [
      "Hello \n"
     ]
    }
   ],
   "source": [
    "# Reading the contents of the file\n",
    "if example_file_path.exists():\n",
    "    with example_file_path.open(\"r\") as file:\n",
    "        content = file.read()\n",
    "        if len(content) == 0:\n",
    "            print(\"File exists but is empty.\")\n",
    "        else:\n",
    "            print(content)\n",
    "else:\n",
    "    print(\"The file does not exist.\")"
   ]
  },
  {
   "cell_type": "code",
   "execution_count": 16,
   "id": "69f01dc7",
   "metadata": {},
   "outputs": [],
   "source": [
    "# Associate names\n",
    "molecule_name = \"Caffeine\"\n",
    "molecule_image_url = \"https://github.com/Enzo-vnc/ppchem/blob/main/caffeine.png\"\n",
    "molecule_description = \"Caffeine is a central nervous system (CNS) stimulant of the methylxanthine class.\""
   ]
  },
  {
   "cell_type": "code",
   "execution_count": 40,
   "id": "aa53aa62",
   "metadata": {},
   "outputs": [],
   "source": [
    "# Define path\n",
    "molecule_info_path = current_directory / \"molecule_info.txt\"\n",
    "\n",
    "# Create file\n",
    "molecule_info_path.touch()\n",
    "\n",
    "# Write to file\n",
    "with molecule_info_path.open(\"w\") as file:\n",
    "    file.write(\n",
    "        f\"Molecule: {molecule_name}\\n\"\n",
    "        f\"Image URL: {molecule_image_url}\\n\"\n",
    "        f\"Description: {molecule_description}\"\n",
    "    )"
   ]
  },
  {
   "cell_type": "code",
   "execution_count": 43,
   "id": "dc2ca7a2",
   "metadata": {},
   "outputs": [
    {
     "name": "stdout",
     "output_type": "stream",
     "text": [
      "Molecule: Caffeine\n",
      "Image URL: https://github.com/Enzo-vnc/ppchem/blob/main/caffeine.png\n",
      "Description: Caffeine is a central nervous system (CNS) stimulant of the methylxanthine class.\n"
     ]
    }
   ],
   "source": [
    "# Reading the contents of the file\n",
    "if molecule_info_path.exists():\n",
    "    with molecule_info_path.open(\"r\") as file:\n",
    "        content = file.read()\n",
    "        if len(content) == 0:\n",
    "            print(\"File exists but is empty.\")\n",
    "        else:\n",
    "            print(content)\n",
    "else:\n",
    "    print(\"The file does not exist.\")"
   ]
  },
  {
   "cell_type": "code",
   "execution_count": null,
   "id": "ed2a0bf1",
   "metadata": {},
   "outputs": [],
   "source": []
  }
 ],
 "metadata": {
  "kernelspec": {
   "display_name": "Python 3 (ipykernel)",
   "language": "python",
   "name": "python3"
  },
  "language_info": {
   "codemirror_mode": {
    "name": "ipython",
    "version": 3
   },
   "file_extension": ".py",
   "mimetype": "text/x-python",
   "name": "python",
   "nbconvert_exporter": "python",
   "pygments_lexer": "ipython3",
   "version": "3.11.5"
  }
 },
 "nbformat": 4,
 "nbformat_minor": 5
}
