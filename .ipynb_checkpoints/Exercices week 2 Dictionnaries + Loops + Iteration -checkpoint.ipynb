{
 "cells": [
  {
   "cell_type": "code",
   "execution_count": 3,
   "id": "a478d2da",
   "metadata": {},
   "outputs": [
    {
     "name": "stdout",
     "output_type": "stream",
     "text": [
      "Base\n",
      "Acid\n"
     ]
    },
    {
     "ename": "KeyError",
     "evalue": "'HCl'",
     "output_type": "error",
     "traceback": [
      "\u001b[1;31m---------------------------------------------------------------------------\u001b[0m",
      "\u001b[1;31mKeyError\u001b[0m                                  Traceback (most recent call last)",
      "Cell \u001b[1;32mIn[3], line 23\u001b[0m\n\u001b[0;32m     19\u001b[0m \u001b[38;5;66;03m#Delete a pair \u001b[39;00m\n\u001b[0;32m     21\u001b[0m \u001b[38;5;28;01mdel\u001b[39;00m acid_bases[\u001b[38;5;124m'\u001b[39m\u001b[38;5;124mHCl\u001b[39m\u001b[38;5;124m'\u001b[39m]\n\u001b[1;32m---> 23\u001b[0m \u001b[38;5;28mprint\u001b[39m(acid_bases[\u001b[38;5;124m'\u001b[39m\u001b[38;5;124mHCl\u001b[39m\u001b[38;5;124m'\u001b[39m])\n",
      "\u001b[1;31mKeyError\u001b[0m: 'HCl'"
     ]
    }
   ],
   "source": [
    "### Dictionnaries\n",
    "\n",
    "#--> store data in a set of key in pairs, keys are unique but can have the same value \n",
    "\n",
    "#syntax used for make a dictionnarie \n",
    "\n",
    "acid_bases = {'NaBH4' : 'Base', 'H2SO4' : 'Acid', 'NaOH' : 'Base'}\n",
    "\n",
    "#For knowing a value of a key \n",
    "\n",
    "print(acid_bases['NaBH4'])\n",
    "\n",
    "#Add a new pair \n",
    "\n",
    "acid_bases['HCl'] = 'Acid'\n",
    "\n",
    "print(acid_bases['HCl'])\n",
    "\n",
    "#Delete a pair \n",
    "\n",
    "del acid_bases['HCl']\n",
    "\n",
    "print(acid_bases['HCl'])"
   ]
  },
  {
   "cell_type": "code",
   "execution_count": 1,
   "id": "b552c7ce",
   "metadata": {},
   "outputs": [
    {
     "name": "stdout",
     "output_type": "stream",
     "text": [
      "Current pH: 2\n",
      "Solution is too acidic. Adding a base to increase pH.\n",
      "Current pH: 3\n",
      "Solution is too acidic. Adding a base to increase pH.\n",
      "Current pH: 4\n",
      "Solution is too acidic. Adding a base to increase pH.\n",
      "Current pH: 5\n",
      "Solution is too acidic. Adding a base to increase pH.\n",
      "Current pH: 6\n",
      "Solution is too acidic. Adding a base to increase pH.\n",
      "Solution is now neutral.\n"
     ]
    }
   ],
   "source": [
    "### Loops\n",
    "\n",
    "#--> Flow control --> ex. on a list \n",
    "## While --> checks conditions and if it's true execute the loop\n",
    "\n",
    "pH = 2  # Assume we start the pH at 2 (which is acidic)\n",
    "\n",
    "while pH != 7:  # while the pH is not neutral\n",
    "    print(f\"Current pH: {pH}\")\n",
    "    if pH < 7:  # if the environment is acidic\n",
    "        print(\"Solution is too acidic. Adding a base to increase pH.\")\n",
    "        pH += 1  # add a base to increase the pH\n",
    "    elif pH > 7:  # if the environment is basic\n",
    "        print(\"Solution is too basic. Adding an acid to decrease pH.\")\n",
    "        pH -= 1  # add an acid to reduce the pH\n",
    "        \n",
    "print(\"Solution is now neutral.\")"
   ]
  },
  {
   "cell_type": "code",
   "execution_count": 2,
   "id": "048ce5ac",
   "metadata": {},
   "outputs": [
    {
     "name": "stdout",
     "output_type": "stream",
     "text": [
      "Element 1: Hydrogen\n",
      "Element 2: Helium\n",
      "Element 3: Lithium\n",
      "Element 4: Beryllium\n",
      "Element 5: Boron\n",
      "Element 6: Carbon\n",
      "Element 7: Nitrogen\n",
      "Element 8: Oxygen\n",
      "Element 9: Fluorine\n"
     ]
    }
   ],
   "source": [
    "## While --> iterate over a sequence of numbers \n",
    "\n",
    "counter = 0\n",
    "max_count = 9\n",
    "\n",
    "# Here is the list of the first nine chemical elements:\n",
    "elements = [\"Hydrogen\", \"Helium\", \"Lithium\", \"Beryllium\", \"Boron\", \"Carbon\", \"Nitrogen\", \"Oxygen\", \"Fluorine\"]\n",
    "\n",
    "while counter < max_count:\n",
    "    # Here we print the element at the current index\n",
    "    # Note the adjustment for 0-based indexing\n",
    "    print(f\"Element {counter + 1}: {elements[counter]}\")\n",
    "    counter += 1"
   ]
  },
  {
   "cell_type": "code",
   "execution_count": 1,
   "id": "601123d1",
   "metadata": {},
   "outputs": [
    {
     "name": "stdout",
     "output_type": "stream",
     "text": [
      "Iron\n",
      "Zinc\n"
     ]
    }
   ],
   "source": [
    "## break --> stop iteration but loop continue \n",
    "\n",
    "elements = [\"Iron\", \"Copper\", \"Zinc\", \"Gold\", \"Silver\", \"Platinum\"]\n",
    "\n",
    "for element in elements:\n",
    "    if element == \"Copper\":\n",
    "        continue\n",
    "    if element == \"Gold\":\n",
    "        break\n",
    "    print(element)\n"
   ]
  },
  {
   "cell_type": "code",
   "execution_count": 2,
   "id": "9d472fda",
   "metadata": {},
   "outputs": [
    {
     "name": "stdout",
     "output_type": "stream",
     "text": [
      "The substance needs to be diluted 5 times to reach the desired concentration.\n"
     ]
    }
   ],
   "source": [
    " #You have a concentrated substance and want dilute it by halving its concentration until you reach a desired concentration. We are interested in knowing how many times you need to dilute a substance to get from a certain initial concentration to a particular final concentration.\n",
    "\n",
    "#Specifically, you are given an initial concentration of 50 g/L and desire a final concentration of 3 g/L. Each dilution process halve the current concentration. Compute how many times the dilution has to take place to reach or go below the desired final concentration.\n",
    "\n",
    "initial_concentration = 50\n",
    "\n",
    "final_concentration = 3\n",
    "\n",
    "# Counter for the number of dilutions\n",
    "dilution_count = 0\n",
    "\n",
    "while initial_concentration > final_concentration:\n",
    "    initial_concentration = initial_concentration / 2\n",
    "    dilution_count += 1\n",
    "\n",
    "print(\"The substance needs to be diluted {} times to reach the desired concentration.\".format(dilution_count))"
   ]
  },
  {
   "cell_type": "code",
   "execution_count": 7,
   "id": "0bb5e34b",
   "metadata": {},
   "outputs": [
    {
     "name": "stdout",
     "output_type": "stream",
     "text": [
      "Iron\n",
      "Copper\n",
      "Zinc\n",
      "Gold\n",
      "Silver\n",
      "Platinum\n",
      "['Iron', 'Copper', 'Zinc', 'Gold', 'Silver', 'Platinum']\n"
     ]
    }
   ],
   "source": [
    "## for --> used for iterable data and defined it like a sequence of elements\n",
    "for element in elements:\n",
    "    print(element)\n",
    "    \n",
    "#comparate to\n",
    "\n",
    "print(elements)\n",
    "\n",
    "#We can iterate in the inverse sens \n",
    "\n",
    "for element in reversed(elements):\n",
    "    print(element)"
   ]
  },
  {
   "cell_type": "code",
   "execution_count": 11,
   "id": "bc0a2a99",
   "metadata": {},
   "outputs": [
    {
     "name": "stdout",
     "output_type": "stream",
     "text": [
      "Iron: 1\n",
      "Copper: 2\n",
      "Zinc: 3\n",
      "Gold: 4\n",
      "Silver: 5\n",
      "Platinum: 6\n"
     ]
    }
   ],
   "source": [
    "# for knowing atomic nbr for the 9 first atoms :\n",
    "\n",
    "for idx, element in enumerate(elements):\n",
    "    print(f\"{element}: {idx + 1}\")\n",
    "    \n",
    "#for x, element ... x --> variable used in a function"
   ]
  },
  {
   "cell_type": "code",
   "execution_count": 10,
   "id": "a820d170",
   "metadata": {},
   "outputs": [
    {
     "name": "stdout",
     "output_type": "stream",
     "text": [
      "['Iron', 'Copper', 'Zinc', 'Gold', 'Silver', 'Platinum']\n"
     ]
    }
   ],
   "source": [
    "for idx, element in enumerate(reversed(elements)):\n",
    "    element = element.lower() + ' : ' + str(idx + 1)\n",
    "\n",
    "print(elements)"
   ]
  },
  {
   "cell_type": "code",
   "execution_count": null,
   "id": "7332b5ab",
   "metadata": {},
   "outputs": [],
   "source": [
    "#modify a list \n",
    "\n",
    "elements = [\"Hydrogen\", \"Helium\", \"Lithium\", \"Beryllium\", \"Boron\", \"Carbon\", \"Nitrogen\", \"Oxygen\", \"Fluorine\"]\n",
    "new_elements = []\n",
    "\n",
    "for idx, element in enumerate(reversed(elements)):\n",
    "    new_elements.append(element.lower() + ' : ' + str(len(elements) - idx))\n",
    "elements = new_elements\n",
    "\n",
    "print(elements)"
   ]
  }
 ],
 "metadata": {
  "kernelspec": {
   "display_name": "Python 3 (ipykernel)",
   "language": "python",
   "name": "python3"
  },
  "language_info": {
   "codemirror_mode": {
    "name": "ipython",
    "version": 3
   },
   "file_extension": ".py",
   "mimetype": "text/x-python",
   "name": "python",
   "nbconvert_exporter": "python",
   "pygments_lexer": "ipython3",
   "version": "3.11.5"
  }
 },
 "nbformat": 4,
 "nbformat_minor": 5
}
