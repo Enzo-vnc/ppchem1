{
 "cells": [
  {
   "cell_type": "code",
   "execution_count": 1,
   "id": "50df6c82",
   "metadata": {},
   "outputs": [
    {
     "name": "stdout",
     "output_type": "stream",
     "text": [
      "hello world\n"
     ]
    }
   ],
   "source": [
    "print ('hello world')"
   ]
  },
  {
   "cell_type": "code",
   "execution_count": 16,
   "id": "d9a61a75",
   "metadata": {},
   "outputs": [
    {
     "name": "stdout",
     "output_type": "stream",
     "text": [
      "Oxygen8\n"
     ]
    }
   ],
   "source": [
    "atom = 'Oxygen'\n",
    "atomic_number = 8\n",
    "output = atom + str(atomic_number)\n",
    "print (output)"
   ]
  },
  {
   "cell_type": "code",
   "execution_count": 53,
   "id": "dd80be97",
   "metadata": {},
   "outputs": [
    {
     "name": "stdout",
     "output_type": "stream",
     "text": [
      "number ?3.2\n",
      "4.4\n"
     ]
    }
   ],
   "source": [
    "a = float(input(\"number ?\"))\n",
    "b = 1.2\n",
    "output = a + b\n",
    "print(output)"
   ]
  },
  {
   "cell_type": "code",
   "execution_count": 52,
   "id": "18742fb0",
   "metadata": {},
   "outputs": [
    {
     "name": "stdout",
     "output_type": "stream",
     "text": [
      "Value: 'Hydrogen'\n",
      "    Evaluates to True\n",
      "Value: 'oxygen'\n",
      "    Evaluates to True\n",
      "Value: None\n",
      "    Evaluates to False\n",
      "Value: -3\n",
      "    Evaluates to True\n",
      "Value: 0\n",
      "    Evaluates to False\n",
      "Value: 1\n",
      "    Evaluates to True\n",
      "Value: -1\n",
      "    Evaluates to True\n",
      "Value: 0.0\n",
      "    Evaluates to False\n",
      "Value: 0.1\n",
      "    Evaluates to True\n",
      "Value: ''\n",
      "    Evaluates to False\n",
      "Value: ' '\n",
      "    Evaluates to True\n",
      "Value: 'hello'\n",
      "    Evaluates to True\n",
      "Value: 'False'\n",
      "    Evaluates to True\n",
      "Value: 'True'\n",
      "    Evaluates to True\n",
      "Value: []\n",
      "    Evaluates to False\n",
      "Value: [1, 2, 3]\n",
      "    Evaluates to True\n",
      "Value: {}\n",
      "    Evaluates to False\n",
      "Value: {'a': 1}\n",
      "    Evaluates to True\n",
      "Value: None\n",
      "    Evaluates to False\n"
     ]
    }
   ],
   "source": [
    "# Test various combinations of strings and integers\n",
    "values = ['Hydrogen','oxygen',None,-3,0, 1, -1, 0.0, 0.1, \"\", \" \", \"hello\", \"False\", \"True\", [], [1, 2, 3], {}, {\"a\": 1}, None]\n",
    "\n",
    "for value in values:\n",
    "    print(f\"Value: {repr(value)}\")\n",
    "    if value:\n",
    "        print(\"    Evaluates to True\")\n",
    "    else:\n",
    "        print(\"    Evaluates to False\")\n"
   ]
  },
  {
   "cell_type": "code",
   "execution_count": 36,
   "id": "60f0b9fe",
   "metadata": {},
   "outputs": [
    {
     "name": "stdout",
     "output_type": "stream",
     "text": [
      "[['Hydrogen', 'Helium', 'Lithium'], ['Beryllium', 'Boron', 'Carbon'], ['Nitrogen', 'Oxygen', 'Fluorine'], [1, 'dog', 3.14, [4, 5, 6]]]\n",
      "[['Hydrogen', 'Helium', 'Lithium'], ['Beryllium', 'Boron', 'Carbon'], ['Nitrogen', 'Oxygen', 'Fluorine'], [1, 'dog', 3.14, [4, 5, 6]], 'chemestry']\n",
      "[['Hydrogen', 'Helium', 'Lithium'], ['Beryllium', 'Boron', 'Carbon'], ['Nitrogen', 'Oxygen', 'Fluorine'], [1, 'dog', 3.14, [4, 5, 6]]]\n",
      "[['Hydrogen', 'Helium', 'Lithium'], ['Beryllium', 'Boron', 'Carbon'], ['Nitrogen', 'Oxygen', 'Fluorine'], 'ananas', [1, 'dog', 3.14, [4, 5, 6]]]\n"
     ]
    }
   ],
   "source": [
    "### Part 2 : Lists\n",
    "# You can declare a list in python using the following syntax\n",
    "elements = [\"Hydrogen\", \"Helium\", \"Lithium\", \"Beryllium\", \"Boron\", \"Carbon\", \"Nitrogen\", \"Oxygen\", \"Fluorine\"]\n",
    "\n",
    "\n",
    "\n",
    "# You can put anything you want in a list, including other lists (matrix)\n",
    "\n",
    "elements = [[\"Hydrogen\", \"Helium\", \"Lithium\"], [\"Beryllium\", \"Boron\", \"Carbon\"], [\"Nitrogen\", \"Oxygen\", \"Fluorine\"]]\n",
    "\n",
    "# You can also declare whacky lists like this\n",
    "\n",
    "whacky_list = [1, 'dog', 3.14, [4, 5, 6]]\n",
    "\n",
    "# Note that by creating a list of lists as above, we have effectively declared a matrix. \n",
    "# In CS terms, a matrix is a 2D array.\n",
    "#print(elements[0])\n",
    "\n",
    "#add a list or something to an other list --> use .append\n",
    "\n",
    "elements.append(whacky_list)\n",
    "print(elements) \n",
    "\n",
    "elements.append(\"chemestry\")\n",
    "print(elements)\n",
    "\n",
    "#remove smthg from a list by .remove \n",
    "\n",
    "elements.remove(\"chemestry\")\n",
    "print(elements)\n",
    "\n",
    "#add smthg at a specific place of the list use .insert(place,object)\n",
    "\n",
    "elements.insert(3,\"ananas\")\n",
    "print(elements)"
   ]
  },
  {
   "cell_type": "code",
   "execution_count": 37,
   "id": "5c65e126",
   "metadata": {},
   "outputs": [
    {
     "name": "stdout",
     "output_type": "stream",
     "text": [
      "Boron\n",
      "Helium\n",
      "['Hydrogen', 'Lithium', 'Beryllium']\n"
     ]
    }
   ],
   "source": [
    "#for remove and have a trace of the element deleted use .pop\n",
    "\n",
    "element_list = [\"Hydrogen\", \"Helium\", \"Lithium\", \"Beryllium\", \"Boron\"]\n",
    "\n",
    "a = element_list.pop(-1)\n",
    "print(a)\n",
    "\n",
    "b = element_list.pop(1)\n",
    "print(b)\n",
    "\n",
    "print(element_list)\n",
    "\n",
    "#for clear all the elements use .clear()\n",
    "\n",
    "element_list.clear()\n",
    "print(element_list)"
   ]
  },
  {
   "cell_type": "code",
   "execution_count": 38,
   "id": "c5da2adb",
   "metadata": {},
   "outputs": [
    {
     "name": "stdout",
     "output_type": "stream",
     "text": [
      "['Hydrogen', 'Helium', 'Lithium', 'Beryllium', 'Boron', 'Nitrogen', 'Oxygen', 'Fluorine']\n",
      "8\n"
     ]
    }
   ],
   "source": [
    "#use of operator + btw lists\n",
    "\n",
    "element_list_1 = [\"Hydrogen\", \"Helium\", \"Lithium\", \"Beryllium\", \"Boron\"]\n",
    "element_list_2= [\"Nitrogen\", \"Oxygen\", \"Fluorine\"]\n",
    "element_list_3 = element_list_1 + element_list_2\n",
    "print(element_list_3)\n",
    "\n",
    "#len() show the number of objects in the list\n",
    "\n",
    "print(len(element_list_3))"
   ]
  },
  {
   "cell_type": "code",
   "execution_count": 54,
   "id": "6b9b3430",
   "metadata": {},
   "outputs": [
    {
     "name": "stdout",
     "output_type": "stream",
     "text": [
      "['Hydrogen', 'Helium', 'Lithium']\n",
      "['Boron']\n",
      "['Nitrogen', 'Oxygen', 'Fluorine']\n",
      "['Hydrogen', 'Lithium', 'Boron']\n",
      "['Hydrogen', 'Beryllium', 'Nitrogen']\n",
      "['Hydrogen', 'Lithium', 'Boron', 'Nitrogen', 'Fluorine']\n",
      "['Hydrogen', 'Lithium', 'Boron', 'Nitrogen', 'Fluorine']\n"
     ]
    }
   ],
   "source": [
    "# to slice a list use <name of the list>[starting number : end number] --> \n",
    "#pay attention use list[0:3] take the 3 first number and not the 4, \n",
    "#the first is not count\n",
    "\n",
    "list = [\"Hydrogen\", \"Helium\", \"Lithium\", \"Beryllium\", \"Boron\", \"Carbon\", \"Nitrogen\", \"Oxygen\", \"Fluorine\"]\n",
    "start = 0\n",
    "end = 3\n",
    "\n",
    "print(list[start:end])\n",
    "\n",
    "print(list[4:5])\n",
    "\n",
    "# And for list the 3 last members of the list as exemple : \n",
    "\n",
    "print(list[-3:])\n",
    "\n",
    "#We can also proceed into steps like  : <list>[start:end:step]\n",
    "\n",
    "print(list[0:5:2])\n",
    "print(list[0:10:3])\n",
    "\n",
    "#for take every second element of the whole list, two different formats\n",
    "\n",
    "print(list[::2])\n",
    "\n",
    "print(list[0:9:2])"
   ]
  },
  {
   "cell_type": "code",
   "execution_count": 69,
   "id": "fbc68c18",
   "metadata": {},
   "outputs": [
    {
     "name": "stdout",
     "output_type": "stream",
     "text": [
      "[5, 6]\n"
     ]
    }
   ],
   "source": [
    "# final exercice of slicing \n",
    "#write code for finding the middle index of a list and then use list slicing to split the list into two sublists\n",
    "\n",
    "test_even = [\"Hydrogen\", \"Helium\", \"Lithium\", \"Beryllium\", \"Boron\", \"Carbon\", \"Nitrogen\", \"Oxygen\", \"Fluorine\", \"Sodium\"]\n",
    "test_odd = [\"Hydrogen\", \"Helium\", \"Lithium\", \"Beryllium\", \"Boron\", \"Carbon\", \"Nitrogen\", \"Oxygen\", \"Fluorine\"]\n",
    "\n",
    "x = len(test_even)\n",
    "\n",
    "# Check if the number is odd or even\n",
    "\n",
    "y = \"even\" if x % 2 == 0 else \"odd\"\n",
    "\n",
    "if y == \"odd\":\n",
    "    z = (x+1)//2\n",
    "else : \n",
    "    z = [x//2,x//2+1]\n",
    " \n",
    "print(z)\n",
    "\n",
    "\n"
   ]
  },
  {
   "cell_type": "code",
   "execution_count": null,
   "id": "f7e12642",
   "metadata": {},
   "outputs": [],
   "source": []
  }
 ],
 "metadata": {
  "kernelspec": {
   "display_name": "Python 3 (ipykernel)",
   "language": "python",
   "name": "python3"
  },
  "language_info": {
   "codemirror_mode": {
    "name": "ipython",
    "version": 3
   },
   "file_extension": ".py",
   "mimetype": "text/x-python",
   "name": "python",
   "nbconvert_exporter": "python",
   "pygments_lexer": "ipython3",
   "version": "3.11.5"
  }
 },
 "nbformat": 4,
 "nbformat_minor": 5
}
