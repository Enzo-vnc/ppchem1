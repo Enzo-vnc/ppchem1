{
 "cells": [
  {
   "cell_type": "code",
   "execution_count": 1,
   "id": "acea0bf2",
   "metadata": {},
   "outputs": [
    {
     "name": "stdout",
     "output_type": "stream",
     "text": [
      "hello world\n"
     ]
    }
   ],
   "source": [
    "print ('hello world')"
   ]
  },
  {
   "cell_type": "code",
   "execution_count": 16,
   "id": "7a5b43ef",
   "metadata": {},
   "outputs": [
    {
     "name": "stdout",
     "output_type": "stream",
     "text": [
      "Oxygen8\n"
     ]
    }
   ],
   "source": [
    "atom = 'Oxygen'\n",
    "atomic_number = 8\n",
    "output = atom + str(atomic_number)\n",
    "print (output)"
   ]
  },
  {
   "cell_type": "code",
   "execution_count": 30,
   "id": "8cc0ff71",
   "metadata": {},
   "outputs": [
    {
     "name": "stdout",
     "output_type": "stream",
     "text": [
      "number ?6\n",
      "7.2\n"
     ]
    }
   ],
   "source": [
    "a = float(input(\"number ?\"))\n",
    "b = 1.2\n",
    "output = a + b\n",
    "print(output)"
   ]
  },
  {
   "cell_type": "code",
   "execution_count": 29,
   "id": "0b2f42ef",
   "metadata": {},
   "outputs": [
    {
     "name": "stdout",
     "output_type": "stream",
     "text": [
      "Value: 'Hydrogen'\n",
      "    Evaluates to True\n",
      "Value: 'oxygen'\n",
      "    Evaluates to True\n",
      "Value: None\n",
      "    Evaluates to False\n",
      "Value: -3\n",
      "    Evaluates to True\n",
      "Value: 0\n",
      "    Evaluates to False\n",
      "Value: 1\n",
      "    Evaluates to True\n",
      "Value: -1\n",
      "    Evaluates to True\n",
      "Value: 0.0\n",
      "    Evaluates to False\n",
      "Value: 0.1\n",
      "    Evaluates to True\n",
      "Value: ''\n",
      "    Evaluates to False\n",
      "Value: ' '\n",
      "    Evaluates to True\n",
      "Value: 'hello'\n",
      "    Evaluates to True\n",
      "Value: 'False'\n",
      "    Evaluates to True\n",
      "Value: 'True'\n",
      "    Evaluates to True\n",
      "Value: []\n",
      "    Evaluates to False\n",
      "Value: [1, 2, 3]\n",
      "    Evaluates to True\n",
      "Value: {}\n",
      "    Evaluates to False\n",
      "Value: {'a': 1}\n",
      "    Evaluates to True\n",
      "Value: None\n",
      "    Evaluates to False\n"
     ]
    }
   ],
   "source": [
    "# Test various combinations of strings and integers\n",
    "values = ['Hydrogen','oxygen',None,-3,0, 1, -1, 0.0, 0.1, \"\", \" \", \"hello\", \"False\", \"True\", [], [1, 2, 3], {}, {\"a\": 1}, None]\n",
    "\n",
    "for value in values:\n",
    "    print(f\"Value: {repr(value)}\")\n",
    "    if value:\n",
    "        print(\"    Evaluates to True\")\n",
    "    else:\n",
    "        print(\"    Evaluates to False\")\n"
   ]
  },
  {
   "cell_type": "code",
   "execution_count": null,
   "id": "624a0a62",
   "metadata": {},
   "outputs": [],
   "source": [
    "###Lists\n"
   ]
  }
 ],
 "metadata": {
  "kernelspec": {
   "display_name": "Python 3 (ipykernel)",
   "language": "python",
   "name": "python3"
  },
  "language_info": {
   "codemirror_mode": {
    "name": "ipython",
    "version": 3
   },
   "file_extension": ".py",
   "mimetype": "text/x-python",
   "name": "python",
   "nbconvert_exporter": "python",
   "pygments_lexer": "ipython3",
   "version": "3.11.5"
  }
 },
 "nbformat": 4,
 "nbformat_minor": 5
}
