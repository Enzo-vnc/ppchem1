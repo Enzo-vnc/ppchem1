{
 "cells": [
  {
   "cell_type": "code",
   "execution_count": 1,
   "id": "d900f6d4",
   "metadata": {},
   "outputs": [
    {
     "ename": "NameError",
     "evalue": "name 'random' is not defined",
     "output_type": "error",
     "traceback": [
      "\u001b[1;31m---------------------------------------------------------------------------\u001b[0m",
      "\u001b[1;31mNameError\u001b[0m                                 Traceback (most recent call last)",
      "Cell \u001b[1;32mIn[1], line 6\u001b[0m\n\u001b[0;32m      3\u001b[0m LENGTH \u001b[38;5;241m=\u001b[39m \u001b[38;5;241m10000000\u001b[39m \u001b[38;5;66;03m# This is the length of the list\u001b[39;00m\n\u001b[0;32m      5\u001b[0m \u001b[38;5;66;03m# Here we declare a list of random numbers and a list of random target numbers\u001b[39;00m\n\u001b[1;32m----> 6\u001b[0m random_list \u001b[38;5;241m=\u001b[39m [random\u001b[38;5;241m.\u001b[39mrandint(\u001b[38;5;241m0\u001b[39m, MAX_SIZE) \u001b[38;5;28;01mfor\u001b[39;00m i \u001b[38;5;129;01min\u001b[39;00m \u001b[38;5;28mrange\u001b[39m(LENGTH)]\n\u001b[0;32m      7\u001b[0m sorted_list \u001b[38;5;241m=\u001b[39m \u001b[38;5;28msorted\u001b[39m(random_list)\n\u001b[0;32m      8\u001b[0m target_integers \u001b[38;5;241m=\u001b[39m [random\u001b[38;5;241m.\u001b[39mrandint(\u001b[38;5;241m0\u001b[39m, MAX_TGT_VALUE) \u001b[38;5;28;01mfor\u001b[39;00m i \u001b[38;5;129;01min\u001b[39;00m \u001b[38;5;28mrange\u001b[39m(\u001b[38;5;241m10\u001b[39m)]\n",
      "Cell \u001b[1;32mIn[1], line 6\u001b[0m, in \u001b[0;36m<listcomp>\u001b[1;34m(.0)\u001b[0m\n\u001b[0;32m      3\u001b[0m LENGTH \u001b[38;5;241m=\u001b[39m \u001b[38;5;241m10000000\u001b[39m \u001b[38;5;66;03m# This is the length of the list\u001b[39;00m\n\u001b[0;32m      5\u001b[0m \u001b[38;5;66;03m# Here we declare a list of random numbers and a list of random target numbers\u001b[39;00m\n\u001b[1;32m----> 6\u001b[0m random_list \u001b[38;5;241m=\u001b[39m [random\u001b[38;5;241m.\u001b[39mrandint(\u001b[38;5;241m0\u001b[39m, MAX_SIZE) \u001b[38;5;28;01mfor\u001b[39;00m i \u001b[38;5;129;01min\u001b[39;00m \u001b[38;5;28mrange\u001b[39m(LENGTH)]\n\u001b[0;32m      7\u001b[0m sorted_list \u001b[38;5;241m=\u001b[39m \u001b[38;5;28msorted\u001b[39m(random_list)\n\u001b[0;32m      8\u001b[0m target_integers \u001b[38;5;241m=\u001b[39m [random\u001b[38;5;241m.\u001b[39mrandint(\u001b[38;5;241m0\u001b[39m, MAX_TGT_VALUE) \u001b[38;5;28;01mfor\u001b[39;00m i \u001b[38;5;129;01min\u001b[39;00m \u001b[38;5;28mrange\u001b[39m(\u001b[38;5;241m10\u001b[39m)]\n",
      "\u001b[1;31mNameError\u001b[0m: name 'random' is not defined"
     ]
    }
   ],
   "source": [
    "MAX_SIZE = 10000000 # This is the maximum value of the numbers in the list\n",
    "MAX_TGT_VALUE = 10000000 # This is the maximum value of the target numbers\n",
    "LENGTH = 10000000 # This is the length of the list\n",
    "\n",
    "# Here we declare a list of random numbers and a list of random target numbers\n",
    "random_list = [random.randint(0, MAX_SIZE) for i in range(LENGTH)]\n",
    "sorted_list = sorted(random_list)\n",
    "target_integers = [random.randint(0, MAX_TGT_VALUE) for i in range(10)]\n",
    "targets_found = []\n",
    "\n",
    "comparison_counter = 0\n",
    "\n",
    "# Iterate through our targets\n",
    "for target in target_integers:\n",
    "    # Create a copy of the list here to avoid overwriting the original list\n",
    "    temporary_list = sorted_list.copy()\n",
    "\n",
    "    # first we continue iterating our code until the list is size 1\n",
    "    while len(temporary_list) >= 1:\n",
    "        # Here we check if the sub list is of size 1 and if so check if we have found the target\n",
    "        if len(temporary_list) == 1:\n",
    "            if temporary_list[0] == target:\n",
    "                targets_found.append(target)\n",
    "            break\n",
    "        \n",
    "        # Now we know the list isn't of length 1, we find the middle index\n",
    "        mid = (len(temporary_list) + 1) // 2\n",
    "        if temporary_list[mid] == target:\n",
    "            targets_found.append(target)\n",
    "            break\n",
    "\n",
    "        # If the middle value is less than the target, we continue searching the right half of the list\n",
    "        elif temporary_list[mid] < target:\n",
    "            temporary_list = temporary_list[mid:]\n",
    "        # If the middle value is greater than the target, we continue searching the left half of the list\n",
    "        else:\n",
    "            temporary_list = temporary_list[:mid]\n",
    "        comparison_counter += 1\n",
    "\n",
    "# Test your code\n",
    "assert targets_found == test_function(random_list, target_integers)\n",
    "print(f'Your code worked! Average number of comparisons per search = {comparison_counter/len(tgts)}')\n"
   ]
  },
  {
   "cell_type": "code",
   "execution_count": null,
   "id": "c01bcef4",
   "metadata": {},
   "outputs": [],
   "source": []
  }
 ],
 "metadata": {
  "kernelspec": {
   "display_name": "Python 3 (ipykernel)",
   "language": "python",
   "name": "python3"
  },
  "language_info": {
   "codemirror_mode": {
    "name": "ipython",
    "version": 3
   },
   "file_extension": ".py",
   "mimetype": "text/x-python",
   "name": "python",
   "nbconvert_exporter": "python",
   "pygments_lexer": "ipython3",
   "version": "3.11.5"
  }
 },
 "nbformat": 4,
 "nbformat_minor": 5
}
